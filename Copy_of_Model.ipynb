{
  "nbformat": 4,
  "nbformat_minor": 0,
  "metadata": {
    "colab": {
      "name": "Copy of Model.ipynb",
      "provenance": [],
      "mount_file_id": "1FzcA081ND2T5Wr6IRpHQZYCzP_fGURP_",
      "authorship_tag": "ABX9TyOn7sbJylOuiB4mNqiKyWrf",
      "include_colab_link": true
    },
    "kernelspec": {
      "name": "python3",
      "display_name": "Python 3"
    },
    "language_info": {
      "name": "python"
    }
  },
  "cells": [
    {
      "cell_type": "markdown",
      "metadata": {
        "id": "view-in-github",
        "colab_type": "text"
      },
      "source": [
        "<a href=\"https://colab.research.google.com/github/frzkhtr/Attrition-Prediction-in-next-30-days/blob/main/Copy_of_Model.ipynb\" target=\"_parent\"><img src=\"https://colab.research.google.com/assets/colab-badge.svg\" alt=\"Open In Colab\"/></a>"
      ]
    },
    {
      "cell_type": "code",
      "metadata": {
        "id": "7Vjdt0pAeKzv"
      },
      "source": [
        "import pandas as pd\n",
        "import numpy as np\n",
        "import seaborn as sns\n",
        "from datetime import datetime\n",
        "from datetime import date\n",
        "import matplotlib.pyplot as plt\n",
        "import sys\n",
        "import dateutil.parser\n",
        "from dateutil.relativedelta import relativedelta\n",
        "#importing different module\n",
        "\n",
        "\n",
        "import pandas as pd\n",
        "import numpy as np\n",
        "import sys\n",
        "import os\n",
        "import seaborn as sns\n",
        "from sklearn.preprocessing import LabelEncoder\n",
        "from sklearn.model_selection import train_test_split\n",
        "from sklearn.neighbors import KNeighborsClassifier\n",
        "from sklearn.tree import DecisionTreeClassifier\n",
        "import xgboost\n",
        "from xgboost import XGBClassifier\n",
        "from sklearn.metrics import f1_score, precision_score, recall_score, jaccard_score, roc_auc_score, confusion_matrix\n",
        "from datetime import datetime\n",
        "import matplotlib.pyplot as plt\n",
        "from sklearn.model_selection import RandomizedSearchCV\n",
        "from sklearn.metrics import classification_report\n",
        "from matplotlib import pyplot\n",
        "from xgboost import plot_importance\n",
        "#from imblearn.over_sampling import SMOTE\n",
        "from sklearn.metrics import fbeta_score, make_scorer\n",
        "from imblearn.over_sampling import RandomOverSampler\n",
        "from imblearn.over_sampling import SMOTE\n",
        "from google.colab import drive\n",
        "from sklearn.utils import shuffle\n",
        "from xgboost import plot_importance\n",
        "from sklearn.preprocessing import OneHotEncoder\n",
        "from sklearn.ensemble import RandomForestClassifier\n",
        "from sklearn.linear_model import LogisticRegression\n",
        "\n",
        "from sklearn.model_selection import RepeatedStratifiedKFold\n",
        "from sklearn.svm import SVC\n",
        "from sklearn.decomposition import TruncatedSVD\n",
        "from sklearn.decomposition import PCA\n",
        "from sklearn.preprocessing import MinMaxScaler\n",
        "from imblearn.under_sampling import ClusterCentroids"
      ],
      "execution_count": null,
      "outputs": []
    },
    {
      "cell_type": "code",
      "metadata": {
        "colab": {
          "base_uri": "https://localhost:8080/"
        },
        "id": "0TDzbUffQJks",
        "outputId": "b7d9d6d4-7477-4437-8de7-b7789f942a7b"
      },
      "source": [
        "train_df['Status'].value_counts()"
      ],
      "execution_count": null,
      "outputs": [
        {
          "output_type": "execute_result",
          "data": {
            "text/plain": [
              "Active      2002\n",
              "Inactive      49\n",
              "Name: Status, dtype: int64"
            ]
          },
          "metadata": {},
          "execution_count": 105
        }
      ]
    },
    {
      "cell_type": "code",
      "metadata": {
        "colab": {
          "base_uri": "https://localhost:8080/"
        },
        "id": "Po6ndsjrKS7j",
        "outputId": "1242deb2-d7c2-488f-dd4d-bbd3bdf7bc0a"
      },
      "source": [
        "test_df['Status'].value_counts()"
      ],
      "execution_count": null,
      "outputs": [
        {
          "output_type": "execute_result",
          "data": {
            "text/plain": [
              "Active      2122\n",
              "Inactive      73\n",
              "Name: Status, dtype: int64"
            ]
          },
          "metadata": {},
          "execution_count": 106
        }
      ]
    },
    {
      "cell_type": "markdown",
      "metadata": {
        "id": "y_5o5oIObYfk"
      },
      "source": [
        "Direct Approach Including Hyper Parameter tuning\n",
        "\n",
        "Model:\n",
        "Decision Tree\n",
        "XGboost\n",
        "SVM"
      ]
    },
    {
      "cell_type": "code",
      "metadata": {
        "id": "BuZH077xwC6A",
        "colab": {
          "base_uri": "https://localhost:8080/"
        },
        "outputId": "dde252e7-ccc6-4a54-a5a2-c41fefe08a53"
      },
      "source": [
        "#train = lag(train_df, 1)\n",
        "#test = lag(test_df, 1)\n",
        "col = ['PersonID_masked','Department', 'Level', 'tenure', 'Project_count', 'p2p_value', 'internal_pro_ratio',\n",
        "       'earned_leave', 'sick/personal leave', 'lwp', 'leave_last_3_months', 'reward_gap',\n",
        "       'certi_count', 'certi_gap', 'Status', 'PhysicalLocation']\n",
        "train = train_df[col].copy()\n",
        "test = test_df[col].copy()\n",
        "train.info()"
      ],
      "execution_count": null,
      "outputs": [
        {
          "output_type": "stream",
          "name": "stdout",
          "text": [
            "<class 'pandas.core.frame.DataFrame'>\n",
            "Int64Index: 2051 entries, 620 to 696\n",
            "Data columns (total 16 columns):\n",
            " #   Column               Non-Null Count  Dtype  \n",
            "---  ------               --------------  -----  \n",
            " 0   PersonID_masked      2051 non-null   int64  \n",
            " 1   Department           2051 non-null   object \n",
            " 2   Level                2051 non-null   object \n",
            " 3   tenure               2051 non-null   float64\n",
            " 4   Project_count        2024 non-null   float64\n",
            " 5   p2p_value            1955 non-null   float64\n",
            " 6   internal_pro_ratio   2024 non-null   float64\n",
            " 7   earned_leave         1580 non-null   float64\n",
            " 8   sick/personal leave  1580 non-null   float64\n",
            " 9   lwp                  1580 non-null   float64\n",
            " 10  leave_last_3_months  1580 non-null   float64\n",
            " 11  reward_gap           1175 non-null   float64\n",
            " 12  certi_count          2051 non-null   float64\n",
            " 13  certi_gap            792 non-null    float64\n",
            " 14  Status               2051 non-null   object \n",
            " 15  PhysicalLocation     2051 non-null   object \n",
            "dtypes: float64(11), int64(1), object(4)\n",
            "memory usage: 352.4+ KB\n"
          ]
        }
      ]
    },
    {
      "cell_type": "code",
      "metadata": {
        "colab": {
          "base_uri": "https://localhost:8080/"
        },
        "id": "hrBO20me4AF4",
        "outputId": "93f15215-232f-4e1d-b129-9d9cdbee442c"
      },
      "source": [
        "train.Department.value_counts()"
      ],
      "execution_count": null,
      "outputs": [
        {
          "output_type": "execute_result",
          "data": {
            "text/plain": [
              "PPE                              965\n",
              "Digital Infrastructure           389\n",
              "Data Analytics & Engineering     311\n",
              "Customer Experience Solution     123\n",
              "Human Resource                    69\n",
              "Finance and Administration        34\n",
              "Information Systems               33\n",
              "Cloud Engineering Studio          30\n",
              "Design Studio                     30\n",
              "House                             15\n",
              "CRO                               11\n",
              "PPE Prof. Services                10\n",
              "IT Infrastructure                  8\n",
              "Corporate Marketing                5\n",
              "Business Operations                4\n",
              "Delivery Excellence                3\n",
              "Field Marketing                    3\n",
              "Delivery Office                    3\n",
              "Sustainability                     3\n",
              "Executive Office                   1\n",
              "Product Engineering                1\n",
              "Name: Department, dtype: int64"
            ]
          },
          "metadata": {},
          "execution_count": 108
        }
      ]
    },
    {
      "cell_type": "code",
      "metadata": {
        "id": "UUei7BmL-sNc"
      },
      "source": [
        "columns = ['Dep_PPE', 'Dep_Digital Infrastructure', 'Dep_Data Analytics & Engineering ', 'Dep_Customer Experience Solution']\n",
        "train = pd.merge(left=train, left_index=True,\n",
        "                  right=pd.get_dummies(train.Department, prefix='Dep')[columns], right_index=True,\n",
        "                  how='left').copy()\n",
        "\n",
        "test = pd.merge(left=test, left_index=True,\n",
        "                  right=pd.get_dummies(test.Department, prefix='Dep')[columns], right_index=True,\n",
        "                  how='left')\n",
        "\n",
        "\n",
        "train = pd.merge(left=train, left_index=True,\n",
        "                  right=pd.get_dummies(train.Level, prefix='Level'), right_index=True,\n",
        "                  how='left').copy()\n",
        "\n",
        "test = pd.merge(left=test, left_index=True,\n",
        "                  right=pd.get_dummies(test.Level, prefix='Level'), right_index=True,\n",
        "                  how='left')\n",
        "\n",
        "encode = LabelEncoder()\n",
        "train['Status'] = encode.fit_transform(train['Status'])\n",
        "test['Status'] = encode.fit_transform(test['Status'])\n",
        "\n",
        "\n",
        "columns = ['Project_count', 'earned_leave', 'sick/personal leave', 'lwp']\n",
        "for col in columns:\n",
        "    m = train[col].mean()\n",
        "    train[col].fillna(value = m, inplace = True)\n",
        "    m = test[col].mean()\n",
        "    test[col].fillna(value = m, inplace = True)\n",
        "test.fillna(value = 0, inplace = True)\n",
        "train.fillna(value = 0, inplace = True)\n",
        "\n",
        "train_ind = train[train['PhysicalLocation'] == 'USA'].copy()\n",
        "train_usa = train[train['PhysicalLocation'] == 'USA']\n",
        "test_ind = test[test['PhysicalLocation'] == 'USA'].copy()\n",
        "test_usa = test[test['PhysicalLocation'] == 'USA']"
      ],
      "execution_count": null,
      "outputs": []
    },
    {
      "cell_type": "code",
      "metadata": {
        "id": "CMnjlEEufyh7",
        "colab": {
          "base_uri": "https://localhost:8080/",
          "height": 131
        },
        "outputId": "500d0a15-2a55-4a21-f1d2-f8fb3a61a87d"
      },
      "source": [
        "''''''lvl = {'6A': 6.5,\n",
        "       'CW': 6.5,\n",
        "       '6B': 6.5}\n",
        "train.replace(lvl, inplace = True)\n",
        "test.replace(lvl, inplace = True)\n",
        "train['Level'] = train['Level'].apply(lambda x: float(x))\n",
        "test['Level'] = test['Level'].apply(lambda x: float(x))\n",
        "\n",
        "columns =  ['Status', 'Department']\n",
        "encode = LabelEncoder()\n",
        "for col in columns:\n",
        "  i = train.columns.get_loc(col)\n",
        "  train.iloc[:,i] = train.apply(lambda i:encode.fit_transform(i.astype(str)), axis=0, result_type='expand')\n",
        "  i = test.columns.get_loc(col)\n",
        "  test.iloc[:,i] = test.apply(lambda i:encode.fit_transform(i.astype(str)), axis=0, result_type='expand')\n",
        "#train['Status'] = encode.fit_transform(train['Status'])\n",
        "#test['Status'] = encode.fit_transform(test['Status'])\n",
        "#train['Department'] = encode.fit_transform(train['Department'])\n",
        "#test['Department'] = encode.fit_transform(test['Department'])\n",
        "'''\n",
        "train['Status'] = encode.fit_transform(train['Status'])\n",
        "test['Status'] = encode.fit_transform(test['Status'])\n",
        "\n",
        "\n",
        "columns = ['Project_count', 'earned_leave', 'sick/personal leave', 'lwp']\n",
        "for col in columns:\n",
        "    m = train[col].mean()\n",
        "    train[col].fillna(value = m, inplace = True)\n",
        "    m = test[col].mean()\n",
        "    test[col].fillna(value = m, inplace = True)\n",
        "test.fillna(value = 0, inplace = True)\n",
        "train.fillna(value = 0, inplace = True)\n",
        "\n",
        "train_ind = train[train['PhysicalLocation'] == 'India'].copy()\n",
        "train_usa = train[train['PhysicalLocation'] == 'USA']\n",
        "test_ind = test[test['PhysicalLocation'] == 'India'].copy()\n",
        "test_usa = test[test['PhysicalLocation'] == 'USA']'''"
      ],
      "execution_count": null,
      "outputs": [
        {
          "output_type": "error",
          "ename": "SyntaxError",
          "evalue": "ignored",
          "traceback": [
            "\u001b[0;36m  File \u001b[0;32m\"<ipython-input-22-0c78220866e0>\"\u001b[0;36m, line \u001b[0;32m1\u001b[0m\n\u001b[0;31m    ''''''lvl = {'6A': 6.5,\u001b[0m\n\u001b[0m            ^\u001b[0m\n\u001b[0;31mSyntaxError\u001b[0m\u001b[0;31m:\u001b[0m invalid syntax\n"
          ]
        }
      ]
    },
    {
      "cell_type": "code",
      "metadata": {
        "colab": {
          "base_uri": "https://localhost:8080/"
        },
        "id": "_cZ7yhAl0RQG",
        "outputId": "91dfa5d4-553f-45d8-9e17-3ab1f8cda33a"
      },
      "source": [
        "test_ind.Status.value_counts()"
      ],
      "execution_count": null,
      "outputs": [
        {
          "output_type": "execute_result",
          "data": {
            "text/plain": [
              "0    283\n",
              "1     14\n",
              "Name: Status, dtype: int64"
            ]
          },
          "metadata": {},
          "execution_count": 135
        }
      ]
    },
    {
      "cell_type": "code",
      "metadata": {
        "id": "OZr2QFxxf9U8"
      },
      "source": [
        "col = ['tenure', 'Project_count', 'p2p_value', 'internal_pro_ratio',\n",
        "       'earned_leave', 'sick/personal leave', 'lwp', 'leave_last_3_months', 'reward_gap',\n",
        "       'certi_count', 'certi_gap', 'Dep_PPE', 'Dep_Digital Infrastructure', 'Dep_Data Analytics & Engineering ',\n",
        "       'Dep_Customer Experience Solution', 'Level_5', 'Level_6', 'Level_6A', 'Level_7', 'Level_8']\n",
        "x_train_ind = train_ind[col]\n",
        "y_train_ind = train_ind['Status']\n",
        "x_test_ind = test_ind[col]\n",
        "y_test_ind = test_ind['Status']\n",
        "x_train_usa = train_usa[col]\n",
        "y_train_usa = train_usa['Status']\n",
        "x_test_usa = test_usa[col]\n",
        "y_test_usa = test_usa['Status']"
      ],
      "execution_count": null,
      "outputs": []
    },
    {
      "cell_type": "code",
      "metadata": {
        "colab": {
          "base_uri": "https://localhost:8080/",
          "height": 461
        },
        "id": "XEI55-06aUr-",
        "outputId": "334e6d28-2bfd-401f-d267-81b7581f8b5b"
      },
      "source": [
        "clf_d = LogisticRegression(class_weight = 'Balanced')\n",
        "clf_d.fit(x_train_ind, y_train_ind)\n",
        "print(f'Accuracy on Train Data : {clf_d.score(x_train_ind, y_train_ind)}')\n",
        "print(f'Accuracy on Test Data: {clf_d.score(x_test_ind, y_test_ind)}')\n",
        "y_pred = clf_d.predict(x_test_ind)\n",
        "print(classification_report(y_test_ind, y_pred))\n",
        "pd.DataFrame(confusion_matrix(y_test_ind, y_pred))"
      ],
      "execution_count": null,
      "outputs": [
        {
          "output_type": "stream",
          "name": "stdout",
          "text": [
            "Accuracy on Train Data : 0.9630872483221476\n",
            "Accuracy on Test Data: 0.9528619528619529\n",
            "              precision    recall  f1-score   support\n",
            "\n",
            "           0       0.96      1.00      0.98       283\n",
            "           1       0.50      0.07      0.12        14\n",
            "\n",
            "    accuracy                           0.95       297\n",
            "   macro avg       0.73      0.53      0.55       297\n",
            "weighted avg       0.93      0.95      0.94       297\n",
            "\n"
          ]
        },
        {
          "output_type": "stream",
          "name": "stderr",
          "text": [
            "/usr/local/lib/python3.7/dist-packages/sklearn/linear_model/_logistic.py:940: ConvergenceWarning: lbfgs failed to converge (status=1):\n",
            "STOP: TOTAL NO. of ITERATIONS REACHED LIMIT.\n",
            "\n",
            "Increase the number of iterations (max_iter) or scale the data as shown in:\n",
            "    https://scikit-learn.org/stable/modules/preprocessing.html\n",
            "Please also refer to the documentation for alternative solver options:\n",
            "    https://scikit-learn.org/stable/modules/linear_model.html#logistic-regression\n",
            "  extra_warning_msg=_LOGISTIC_SOLVER_CONVERGENCE_MSG)\n"
          ]
        },
        {
          "output_type": "execute_result",
          "data": {
            "text/html": [
              "<div>\n",
              "<style scoped>\n",
              "    .dataframe tbody tr th:only-of-type {\n",
              "        vertical-align: middle;\n",
              "    }\n",
              "\n",
              "    .dataframe tbody tr th {\n",
              "        vertical-align: top;\n",
              "    }\n",
              "\n",
              "    .dataframe thead th {\n",
              "        text-align: right;\n",
              "    }\n",
              "</style>\n",
              "<table border=\"1\" class=\"dataframe\">\n",
              "  <thead>\n",
              "    <tr style=\"text-align: right;\">\n",
              "      <th></th>\n",
              "      <th>0</th>\n",
              "      <th>1</th>\n",
              "    </tr>\n",
              "  </thead>\n",
              "  <tbody>\n",
              "    <tr>\n",
              "      <th>0</th>\n",
              "      <td>282</td>\n",
              "      <td>1</td>\n",
              "    </tr>\n",
              "    <tr>\n",
              "      <th>1</th>\n",
              "      <td>13</td>\n",
              "      <td>1</td>\n",
              "    </tr>\n",
              "  </tbody>\n",
              "</table>\n",
              "</div>"
            ],
            "text/plain": [
              "     0  1\n",
              "0  282  1\n",
              "1   13  1"
            ]
          },
          "metadata": {},
          "execution_count": 112
        }
      ]
    },
    {
      "cell_type": "code",
      "metadata": {
        "colab": {
          "base_uri": "https://localhost:8080/",
          "height": 409
        },
        "id": "EgtCbJGWbDrE",
        "outputId": "122becc9-5e9a-4696-ff12-56df4bc44003"
      },
      "source": [
        "#XGBoost\n",
        "#hyper-parameter Tuning\n",
        "\n",
        "#Providing a list of values for some xgboost model parameter\n",
        "params = {\n",
        "    'solver': ['newton-cg', 'lbfgs' , 'liblinear', 'sag', ''],\n",
        "    'max_iter': [100, 200, 300, 400],\n",
        "}\n",
        "\n",
        "\n",
        "model = LogisticRegression()               #Defining the model\n",
        "\n",
        "#Defining the Randomized search Cv function with its own parameter and evaluation metrix\n",
        "random_search = RandomizedSearchCV(model, param_distributions = params, n_iter = 30, \n",
        "                                   scoring = 'f1', n_jobs = -1, cv = 5, verbose = 3)\n",
        "\n",
        "random_search.fit(x_train_ind,y_train_ind)             #fitting the random search model\n",
        "\n",
        "random_search.best_estimator_                  #getting the best parameter value for xg boost\n",
        "model_d = random_search.best_estimator_\n",
        "\n",
        "model_d.fit(x_train_ind, y_train_ind)\n",
        "print(f'Accuracy on Train Data: {model_d.score(x_train_ind, y_train_ind)}')\n",
        "print(f'Accuracy on Test Data: {model_d.score(x_test_ind, y_test_ind)}')\n",
        "\n",
        "y_pred = model_d.predict(x_test_ind)\n",
        "print(classification_report(y_test_ind, y_pred))\n",
        "pd.DataFrame(confusion_matrix(y_test_ind, y_pred))"
      ],
      "execution_count": null,
      "outputs": [
        {
          "output_type": "stream",
          "name": "stderr",
          "text": [
            "/usr/local/lib/python3.7/dist-packages/sklearn/model_selection/_search.py:281: UserWarning: The total space of parameters 20 is smaller than n_iter=30. Running 20 iterations. For exhaustive searches, use GridSearchCV.\n",
            "  % (grid_size, self.n_iter, grid_size), UserWarning)\n",
            "[Parallel(n_jobs=-1)]: Using backend LokyBackend with 2 concurrent workers.\n"
          ]
        },
        {
          "output_type": "stream",
          "name": "stdout",
          "text": [
            "Fitting 5 folds for each of 20 candidates, totalling 100 fits\n",
            "Accuracy on Train Data: 0.9630872483221476\n",
            "Accuracy on Test Data: 0.9528619528619529\n",
            "              precision    recall  f1-score   support\n",
            "\n",
            "           0       0.96      1.00      0.98       283\n",
            "           1       0.50      0.07      0.12        14\n",
            "\n",
            "    accuracy                           0.95       297\n",
            "   macro avg       0.73      0.53      0.55       297\n",
            "weighted avg       0.93      0.95      0.94       297\n",
            "\n"
          ]
        },
        {
          "output_type": "stream",
          "name": "stderr",
          "text": [
            "[Parallel(n_jobs=-1)]: Done 100 out of 100 | elapsed:    1.9s finished\n"
          ]
        },
        {
          "output_type": "execute_result",
          "data": {
            "text/html": [
              "<div>\n",
              "<style scoped>\n",
              "    .dataframe tbody tr th:only-of-type {\n",
              "        vertical-align: middle;\n",
              "    }\n",
              "\n",
              "    .dataframe tbody tr th {\n",
              "        vertical-align: top;\n",
              "    }\n",
              "\n",
              "    .dataframe thead th {\n",
              "        text-align: right;\n",
              "    }\n",
              "</style>\n",
              "<table border=\"1\" class=\"dataframe\">\n",
              "  <thead>\n",
              "    <tr style=\"text-align: right;\">\n",
              "      <th></th>\n",
              "      <th>0</th>\n",
              "      <th>1</th>\n",
              "    </tr>\n",
              "  </thead>\n",
              "  <tbody>\n",
              "    <tr>\n",
              "      <th>0</th>\n",
              "      <td>282</td>\n",
              "      <td>1</td>\n",
              "    </tr>\n",
              "    <tr>\n",
              "      <th>1</th>\n",
              "      <td>13</td>\n",
              "      <td>1</td>\n",
              "    </tr>\n",
              "  </tbody>\n",
              "</table>\n",
              "</div>"
            ],
            "text/plain": [
              "     0  1\n",
              "0  282  1\n",
              "1   13  1"
            ]
          },
          "metadata": {},
          "execution_count": 113
        }
      ]
    },
    {
      "cell_type": "code",
      "metadata": {
        "colab": {
          "base_uri": "https://localhost:8080/",
          "height": 303
        },
        "id": "NxokJX4ma5Gm",
        "outputId": "c6519c08-e673-4f98-e8f1-59d6797ce4f9"
      },
      "source": [
        "#Building a naive Decision tree model with its deault value\n",
        "\n",
        "clf_d = RandomForestClassifier() \n",
        "clf_d.fit(x_train_ind, y_train_ind)\n",
        "print(f'Accuracy on Train Data : {clf_d.score(x_train_ind, y_train_ind)}')\n",
        "print(f'Accuracy on Test Data: {clf_d.score(x_test_ind, y_test_ind)}')\n",
        "y_pred = clf_d.predict(x_test_ind)\n",
        "print(classification_report(y_test_ind, y_pred))\n",
        "pd.DataFrame(confusion_matrix(y_test_ind, y_pred))"
      ],
      "execution_count": null,
      "outputs": [
        {
          "output_type": "stream",
          "name": "stdout",
          "text": [
            "Accuracy on Train Data : 1.0\n",
            "Accuracy on Test Data: 0.9494949494949495\n",
            "              precision    recall  f1-score   support\n",
            "\n",
            "           0       0.95      1.00      0.97       283\n",
            "           1       0.00      0.00      0.00        14\n",
            "\n",
            "    accuracy                           0.95       297\n",
            "   macro avg       0.48      0.50      0.49       297\n",
            "weighted avg       0.91      0.95      0.93       297\n",
            "\n"
          ]
        },
        {
          "output_type": "execute_result",
          "data": {
            "text/html": [
              "<div>\n",
              "<style scoped>\n",
              "    .dataframe tbody tr th:only-of-type {\n",
              "        vertical-align: middle;\n",
              "    }\n",
              "\n",
              "    .dataframe tbody tr th {\n",
              "        vertical-align: top;\n",
              "    }\n",
              "\n",
              "    .dataframe thead th {\n",
              "        text-align: right;\n",
              "    }\n",
              "</style>\n",
              "<table border=\"1\" class=\"dataframe\">\n",
              "  <thead>\n",
              "    <tr style=\"text-align: right;\">\n",
              "      <th></th>\n",
              "      <th>0</th>\n",
              "      <th>1</th>\n",
              "    </tr>\n",
              "  </thead>\n",
              "  <tbody>\n",
              "    <tr>\n",
              "      <th>0</th>\n",
              "      <td>282</td>\n",
              "      <td>1</td>\n",
              "    </tr>\n",
              "    <tr>\n",
              "      <th>1</th>\n",
              "      <td>14</td>\n",
              "      <td>0</td>\n",
              "    </tr>\n",
              "  </tbody>\n",
              "</table>\n",
              "</div>"
            ],
            "text/plain": [
              "     0  1\n",
              "0  282  1\n",
              "1   14  0"
            ]
          },
          "metadata": {},
          "execution_count": 114
        }
      ]
    },
    {
      "cell_type": "code",
      "metadata": {
        "colab": {
          "base_uri": "https://localhost:8080/",
          "height": 389
        },
        "id": "-BC5ZbbhcUJj",
        "outputId": "36e351e6-225a-4e21-f9a9-1ba3b5fadef1"
      },
      "source": [
        "#XGBoost\n",
        "#hyper-parameter Tuning\n",
        "\n",
        "#Providing a list of values for some xgboost model parameter\n",
        "params = {\n",
        "    'max_depth': [3,5,7,9,11,13],                          \n",
        "    'n_estimators': [200,400,600,800],\n",
        "    'criterion': ['gini', 'entropy']\n",
        "}\n",
        "\n",
        "\n",
        "model = RandomForestClassifier()                 #Defining the model\n",
        "\n",
        "#Defining the Randomized search Cv function with its own parameter and evaluation metrix\n",
        "random_search = RandomizedSearchCV(model, param_distributions = params, n_iter = 30, \n",
        "                                   scoring = 'f1', n_jobs = -1, cv = 5, verbose = 3)\n",
        "\n",
        "random_search.fit(x_train_ind,y_train_ind)             #fitting the random search model\n",
        "\n",
        "random_search.best_estimator_                  #getting the best parameter value for xg boost\n",
        "model_d = random_search.best_estimator_\n",
        "\n",
        "model_d.fit(x_train_ind, y_train_ind)\n",
        "print(f'Accuracy on Train Data: {model_d.score(x_train_ind, y_train_ind)}')\n",
        "print(f'Accuracy on Test Data: {model_d.score(x_test_ind, y_test_ind)}')\n",
        "\n",
        "y_pred = model_d.predict(x_test_ind)\n",
        "print(classification_report(y_test_ind, y_pred))\n",
        "pd.DataFrame(confusion_matrix(y_test_ind, y_pred))"
      ],
      "execution_count": null,
      "outputs": [
        {
          "output_type": "stream",
          "name": "stdout",
          "text": [
            "Fitting 5 folds for each of 30 candidates, totalling 150 fits\n"
          ]
        },
        {
          "output_type": "stream",
          "name": "stderr",
          "text": [
            "[Parallel(n_jobs=-1)]: Using backend LokyBackend with 2 concurrent workers.\n",
            "[Parallel(n_jobs=-1)]: Done  28 tasks      | elapsed:   28.6s\n",
            "[Parallel(n_jobs=-1)]: Done 124 tasks      | elapsed:  2.1min\n",
            "[Parallel(n_jobs=-1)]: Done 150 out of 150 | elapsed:  2.5min finished\n"
          ]
        },
        {
          "output_type": "stream",
          "name": "stdout",
          "text": [
            "Accuracy on Train Data: 0.9990796134376438\n",
            "Accuracy on Test Data: 0.9770755885997522\n",
            "              precision    recall  f1-score   support\n",
            "\n",
            "           0       0.98      1.00      0.99      1579\n",
            "           1       0.00      0.00      0.00        35\n",
            "\n",
            "    accuracy                           0.98      1614\n",
            "   macro avg       0.49      0.50      0.49      1614\n",
            "weighted avg       0.96      0.98      0.97      1614\n",
            "\n"
          ]
        },
        {
          "output_type": "execute_result",
          "data": {
            "text/html": [
              "<div>\n",
              "<style scoped>\n",
              "    .dataframe tbody tr th:only-of-type {\n",
              "        vertical-align: middle;\n",
              "    }\n",
              "\n",
              "    .dataframe tbody tr th {\n",
              "        vertical-align: top;\n",
              "    }\n",
              "\n",
              "    .dataframe thead th {\n",
              "        text-align: right;\n",
              "    }\n",
              "</style>\n",
              "<table border=\"1\" class=\"dataframe\">\n",
              "  <thead>\n",
              "    <tr style=\"text-align: right;\">\n",
              "      <th></th>\n",
              "      <th>0</th>\n",
              "      <th>1</th>\n",
              "    </tr>\n",
              "  </thead>\n",
              "  <tbody>\n",
              "    <tr>\n",
              "      <th>0</th>\n",
              "      <td>1577</td>\n",
              "      <td>2</td>\n",
              "    </tr>\n",
              "    <tr>\n",
              "      <th>1</th>\n",
              "      <td>35</td>\n",
              "      <td>0</td>\n",
              "    </tr>\n",
              "  </tbody>\n",
              "</table>\n",
              "</div>"
            ],
            "text/plain": [
              "      0  1\n",
              "0  1577  2\n",
              "1    35  0"
            ]
          },
          "metadata": {},
          "execution_count": 13
        }
      ]
    },
    {
      "cell_type": "code",
      "metadata": {
        "colab": {
          "base_uri": "https://localhost:8080/",
          "height": 303
        },
        "id": "--_Xl3AegOKT",
        "outputId": "87ee54ff-3d58-411c-e718-ae84961d2676"
      },
      "source": [
        "#Building a naive Decision tree model with its deault value\n",
        "\n",
        "clf_d = DecisionTreeClassifier() \n",
        "clf_d.fit(x_train_ind, y_train_ind)\n",
        "print(f'Accuracy on Train Data : {clf_d.score(x_train_ind, y_train_ind)}')\n",
        "print(f'Accuracy on Test Data: {clf_d.score(x_test_ind, y_test_ind)}')\n",
        "y_pred = clf_d.predict(x_test_ind)\n",
        "print(classification_report(y_test_ind, y_pred))\n",
        "pd.DataFrame(confusion_matrix(y_test_ind, y_pred))"
      ],
      "execution_count": null,
      "outputs": [
        {
          "output_type": "stream",
          "name": "stdout",
          "text": [
            "Accuracy on Train Data : 1.0\n",
            "Accuracy on Test Data: 0.9292929292929293\n",
            "              precision    recall  f1-score   support\n",
            "\n",
            "           0       0.95      0.98      0.96       283\n",
            "           1       0.00      0.00      0.00        14\n",
            "\n",
            "    accuracy                           0.93       297\n",
            "   macro avg       0.48      0.49      0.48       297\n",
            "weighted avg       0.91      0.93      0.92       297\n",
            "\n"
          ]
        },
        {
          "output_type": "execute_result",
          "data": {
            "text/html": [
              "<div>\n",
              "<style scoped>\n",
              "    .dataframe tbody tr th:only-of-type {\n",
              "        vertical-align: middle;\n",
              "    }\n",
              "\n",
              "    .dataframe tbody tr th {\n",
              "        vertical-align: top;\n",
              "    }\n",
              "\n",
              "    .dataframe thead th {\n",
              "        text-align: right;\n",
              "    }\n",
              "</style>\n",
              "<table border=\"1\" class=\"dataframe\">\n",
              "  <thead>\n",
              "    <tr style=\"text-align: right;\">\n",
              "      <th></th>\n",
              "      <th>0</th>\n",
              "      <th>1</th>\n",
              "    </tr>\n",
              "  </thead>\n",
              "  <tbody>\n",
              "    <tr>\n",
              "      <th>0</th>\n",
              "      <td>276</td>\n",
              "      <td>7</td>\n",
              "    </tr>\n",
              "    <tr>\n",
              "      <th>1</th>\n",
              "      <td>14</td>\n",
              "      <td>0</td>\n",
              "    </tr>\n",
              "  </tbody>\n",
              "</table>\n",
              "</div>"
            ],
            "text/plain": [
              "     0  1\n",
              "0  276  7\n",
              "1   14  0"
            ]
          },
          "metadata": {},
          "execution_count": 115
        }
      ]
    },
    {
      "cell_type": "code",
      "metadata": {
        "colab": {
          "base_uri": "https://localhost:8080/",
          "height": 303
        },
        "id": "D5LOOXE2gY-M",
        "outputId": "ab363633-95bf-4a4f-f054-8f78d7ba1ee0"
      },
      "source": [
        "model_d = xgboost.XGBClassifier()\n",
        "model_d.fit(x_train_ind, y_train_ind)\n",
        "print(f'Accuracy on Train Data: {model_d.score(x_train_ind, y_train_ind)}')\n",
        "print(f'Accuracy on Test Data: {model_d.score(x_test_ind, y_test_ind)}')\n",
        "y_pred = model_d.predict(x_test_ind)\n",
        "print(classification_report(y_test_ind, y_pred))\n",
        "pd.DataFrame(confusion_matrix(y_test_ind, y_pred))"
      ],
      "execution_count": null,
      "outputs": [
        {
          "output_type": "stream",
          "name": "stdout",
          "text": [
            "Accuracy on Train Data: 0.9798657718120806\n",
            "Accuracy on Test Data: 0.9494949494949495\n",
            "              precision    recall  f1-score   support\n",
            "\n",
            "           0       0.95      1.00      0.97       283\n",
            "           1       0.00      0.00      0.00        14\n",
            "\n",
            "    accuracy                           0.95       297\n",
            "   macro avg       0.48      0.50      0.49       297\n",
            "weighted avg       0.91      0.95      0.93       297\n",
            "\n"
          ]
        },
        {
          "output_type": "execute_result",
          "data": {
            "text/html": [
              "<div>\n",
              "<style scoped>\n",
              "    .dataframe tbody tr th:only-of-type {\n",
              "        vertical-align: middle;\n",
              "    }\n",
              "\n",
              "    .dataframe tbody tr th {\n",
              "        vertical-align: top;\n",
              "    }\n",
              "\n",
              "    .dataframe thead th {\n",
              "        text-align: right;\n",
              "    }\n",
              "</style>\n",
              "<table border=\"1\" class=\"dataframe\">\n",
              "  <thead>\n",
              "    <tr style=\"text-align: right;\">\n",
              "      <th></th>\n",
              "      <th>0</th>\n",
              "      <th>1</th>\n",
              "    </tr>\n",
              "  </thead>\n",
              "  <tbody>\n",
              "    <tr>\n",
              "      <th>0</th>\n",
              "      <td>282</td>\n",
              "      <td>1</td>\n",
              "    </tr>\n",
              "    <tr>\n",
              "      <th>1</th>\n",
              "      <td>14</td>\n",
              "      <td>0</td>\n",
              "    </tr>\n",
              "  </tbody>\n",
              "</table>\n",
              "</div>"
            ],
            "text/plain": [
              "     0  1\n",
              "0  282  1\n",
              "1   14  0"
            ]
          },
          "metadata": {},
          "execution_count": 116
        }
      ]
    },
    {
      "cell_type": "code",
      "metadata": {
        "colab": {
          "base_uri": "https://localhost:8080/",
          "height": 389
        },
        "id": "FMs-AjZygloO",
        "outputId": "b7659c06-5c62-46bf-d3da-fcd70adaacde"
      },
      "source": [
        "#XGBoost\n",
        "#hyper-parameter Tuning\n",
        "\n",
        "#Providing a list of values for some xgboost model parameter\n",
        "params = {\n",
        "    'learning_rate': [0.05, 0.10, 0.15, 0.20, 0.25, 0.30],\n",
        "    'max_depth': [11, 13, 15, 17, 19],\n",
        "    'min_child_weight': [1, 2, 3, 5,7, 9],                            \n",
        "    'gamma': [0.0, 0.1, 0.2, 0.3, 0.4],\n",
        "    'colsample_bytree': [0.3, 0.4, 0.5, 0.7],\n",
        "    'n_estimators': [200,400,600,800],\n",
        "    'scale_pos_weight': [1, 5, 10, 20, 25, 50, 75, 100]\n",
        "}\n",
        "\n",
        "\n",
        "model = xgboost.XGBClassifier()                #Defining the model\n",
        "\n",
        "#Defining the Randomized search Cv function with its own parameter and evaluation metrix\n",
        "random_search = RandomizedSearchCV(model, param_distributions = params, n_iter = 30, \n",
        "                                   scoring = 'f1', n_jobs = -1, cv = 5, verbose = 3)\n",
        "\n",
        "random_search.fit(x_train_ind,y_train_ind)             #fitting the random search model\n",
        "\n",
        "random_search.best_estimator_                  #getting the best parameter value for xg boost\n",
        "model_d = random_search.best_estimator_\n",
        "\n",
        "model_d.fit(x_train_ind, y_train_ind)\n",
        "print(f'Accuracy on Train Data: {model_d.score(x_train_ind, y_train_ind)}')\n",
        "print(f'Accuracy on Test Data: {model_d.score(x_test_ind, y_test_ind)}')\n",
        "\n",
        "y_pred = model_d.predict(x_test_ind)\n",
        "print(classification_report(y_test_ind, y_pred))\n",
        "pd.DataFrame(confusion_matrix(y_test_ind, y_pred))"
      ],
      "execution_count": null,
      "outputs": [
        {
          "output_type": "stream",
          "name": "stdout",
          "text": [
            "Fitting 5 folds for each of 30 candidates, totalling 150 fits\n"
          ]
        },
        {
          "output_type": "stream",
          "name": "stderr",
          "text": [
            "[Parallel(n_jobs=-1)]: Using backend LokyBackend with 2 concurrent workers.\n",
            "[Parallel(n_jobs=-1)]: Done  52 tasks      | elapsed:    4.5s\n",
            "[Parallel(n_jobs=-1)]: Done 147 out of 150 | elapsed:   11.4s remaining:    0.2s\n",
            "[Parallel(n_jobs=-1)]: Done 150 out of 150 | elapsed:   11.5s finished\n"
          ]
        },
        {
          "output_type": "stream",
          "name": "stdout",
          "text": [
            "Accuracy on Train Data: 0.9865771812080537\n",
            "Accuracy on Test Data: 0.9158249158249159\n",
            "              precision    recall  f1-score   support\n",
            "\n",
            "           0       0.95      0.96      0.96       283\n",
            "           1       0.00      0.00      0.00        14\n",
            "\n",
            "    accuracy                           0.92       297\n",
            "   macro avg       0.48      0.48      0.48       297\n",
            "weighted avg       0.91      0.92      0.91       297\n",
            "\n"
          ]
        },
        {
          "output_type": "execute_result",
          "data": {
            "text/html": [
              "<div>\n",
              "<style scoped>\n",
              "    .dataframe tbody tr th:only-of-type {\n",
              "        vertical-align: middle;\n",
              "    }\n",
              "\n",
              "    .dataframe tbody tr th {\n",
              "        vertical-align: top;\n",
              "    }\n",
              "\n",
              "    .dataframe thead th {\n",
              "        text-align: right;\n",
              "    }\n",
              "</style>\n",
              "<table border=\"1\" class=\"dataframe\">\n",
              "  <thead>\n",
              "    <tr style=\"text-align: right;\">\n",
              "      <th></th>\n",
              "      <th>0</th>\n",
              "      <th>1</th>\n",
              "    </tr>\n",
              "  </thead>\n",
              "  <tbody>\n",
              "    <tr>\n",
              "      <th>0</th>\n",
              "      <td>272</td>\n",
              "      <td>11</td>\n",
              "    </tr>\n",
              "    <tr>\n",
              "      <th>1</th>\n",
              "      <td>14</td>\n",
              "      <td>0</td>\n",
              "    </tr>\n",
              "  </tbody>\n",
              "</table>\n",
              "</div>"
            ],
            "text/plain": [
              "     0   1\n",
              "0  272  11\n",
              "1   14   0"
            ]
          },
          "metadata": {},
          "execution_count": 117
        }
      ]
    },
    {
      "cell_type": "code",
      "metadata": {
        "colab": {
          "base_uri": "https://localhost:8080/",
          "height": 295
        },
        "id": "3qy9ZNnhZVYF",
        "outputId": "4cf6b7be-4d11-448b-c00e-354f172b490b"
      },
      "source": [
        "lplot_importance(model_d)\n",
        "pyplot.show()"
      ],
      "execution_count": null,
      "outputs": [
        {
          "output_type": "display_data",
          "data": {
            "image/png": "[encoded data removed]",
            "text/plain": [
              "<Figure size 432x288 with 1 Axes>"
            ]
          },
          "metadata": {
            "needs_background": "light"
          }
        }
      ]
    },
    {
      "cell_type": "code",
      "metadata": {
        "colab": {
          "base_uri": "https://localhost:8080/",
          "height": 303
        },
        "id": "kaLVmQQaZhog",
        "outputId": "0ba89f49-12a2-4d5d-d8c8-a8f1eda4fd60"
      },
      "source": [
        "weights = {0:1, 1:22}\n",
        "model = SVC(kernel =  'poly',class_weight = weights)\n",
        "model.fit(x_train_ind, y_train_ind)\n",
        "print(f'Accuracy on Train Data: {model.score(x_train_ind, y_train_ind)}')\n",
        "print(f'Accuracy on test Data: {model.score(x_test_ind, y_test_ind)}')\n",
        "y_pred = model.predict(x_test_ind)\n",
        "print(classification_report(y_test_ind, y_pred))\n",
        "pd.DataFrame(confusion_matrix(y_test_ind, y_pred))"
      ],
      "execution_count": null,
      "outputs": [
        {
          "output_type": "stream",
          "name": "stdout",
          "text": [
            "Accuracy on Train Data: 0.738255033557047\n",
            "Accuracy on test Data: 0.7003367003367004\n",
            "              precision    recall  f1-score   support\n",
            "\n",
            "           0       0.95      0.72      0.82       283\n",
            "           1       0.04      0.21      0.06        14\n",
            "\n",
            "    accuracy                           0.70       297\n",
            "   macro avg       0.49      0.47      0.44       297\n",
            "weighted avg       0.91      0.70      0.79       297\n",
            "\n"
          ]
        },
        {
          "output_type": "execute_result",
          "data": {
            "text/html": [
              "<div>\n",
              "<style scoped>\n",
              "    .dataframe tbody tr th:only-of-type {\n",
              "        vertical-align: middle;\n",
              "    }\n",
              "\n",
              "    .dataframe tbody tr th {\n",
              "        vertical-align: top;\n",
              "    }\n",
              "\n",
              "    .dataframe thead th {\n",
              "        text-align: right;\n",
              "    }\n",
              "</style>\n",
              "<table border=\"1\" class=\"dataframe\">\n",
              "  <thead>\n",
              "    <tr style=\"text-align: right;\">\n",
              "      <th></th>\n",
              "      <th>0</th>\n",
              "      <th>1</th>\n",
              "    </tr>\n",
              "  </thead>\n",
              "  <tbody>\n",
              "    <tr>\n",
              "      <th>0</th>\n",
              "      <td>205</td>\n",
              "      <td>78</td>\n",
              "    </tr>\n",
              "    <tr>\n",
              "      <th>1</th>\n",
              "      <td>11</td>\n",
              "      <td>3</td>\n",
              "    </tr>\n",
              "  </tbody>\n",
              "</table>\n",
              "</div>"
            ],
            "text/plain": [
              "     0   1\n",
              "0  205  78\n",
              "1   11   3"
            ]
          },
          "metadata": {},
          "execution_count": 172
        }
      ]
    },
    {
      "cell_type": "code",
      "metadata": {
        "colab": {
          "base_uri": "https://localhost:8080/",
          "height": 389
        },
        "id": "94OVrDnBacr1",
        "outputId": "11240e8c-fdef-4ede-d61d-7b828cb667fd"
      },
      "source": [
        "params = {\n",
        "    'C': [0.10,0.20,0.30, 0.5, 0.7, 0.9, 1, 1.5],\n",
        "    'kernel': ['linear', 'poly', 'sigmoid', 'rbf'],\n",
        "    'class_weight': ['balanced']\n",
        "}\n",
        "model = SVC()                #Defining the model\n",
        "\n",
        "#Defining the Randomized search Cv function with its own parameter and evaluation metrix\n",
        "random_search = RandomizedSearchCV(model, param_distributions = params, n_iter = 30, \n",
        "                                   scoring = 'roc_auc', n_jobs = -1, cv = 5, verbose = 3)\n",
        "\n",
        "random_search.fit(x_train_ind,y_train_ind)             #fitting the random search model\n",
        "\n",
        "random_search.best_estimator_                  #getting the best parameter value for xg boost\n",
        "\n",
        "model = random_search.best_estimator_\n",
        "model.fit(x_train_ind, y_train_ind)\n",
        "print(f'Accuracy on Train Data: {model.score(x_train_ind, y_train_ind)}')\n",
        "print(f'Accuracy on test Data: {model.score(x_test_ind, y_test_ind)}')\n",
        "y_pred = model.predict(x_test_ind)\n",
        "print(classification_report(y_test_ind, y_pred))\n",
        "pd.DataFrame(confusion_matrix(y_test_ind, y_pred))"
      ],
      "execution_count": null,
      "outputs": [
        {
          "output_type": "stream",
          "name": "stdout",
          "text": [
            "Fitting 5 folds for each of 30 candidates, totalling 150 fits\n"
          ]
        },
        {
          "output_type": "stream",
          "name": "stderr",
          "text": [
            "[Parallel(n_jobs=-1)]: Using backend LokyBackend with 2 concurrent workers.\n",
            "[Parallel(n_jobs=-1)]: Done  42 tasks      | elapsed:    9.5s\n",
            "[Parallel(n_jobs=-1)]: Done 138 tasks      | elapsed:  1.0min\n",
            "[Parallel(n_jobs=-1)]: Done 150 out of 150 | elapsed:  1.0min finished\n"
          ]
        },
        {
          "output_type": "stream",
          "name": "stdout",
          "text": [
            "Accuracy on Train Data: 0.5922687528762081\n",
            "Accuracy on test Data: 0.36369268897149937\n",
            "              precision    recall  f1-score   support\n",
            "\n",
            "           0       0.99      0.35      0.52      1579\n",
            "           1       0.03      0.77      0.05        35\n",
            "\n",
            "    accuracy                           0.36      1614\n",
            "   macro avg       0.51      0.56      0.29      1614\n",
            "weighted avg       0.97      0.36      0.51      1614\n",
            "\n"
          ]
        },
        {
          "output_type": "execute_result",
          "data": {
            "text/html": [
              "<div>\n",
              "<style scoped>\n",
              "    .dataframe tbody tr th:only-of-type {\n",
              "        vertical-align: middle;\n",
              "    }\n",
              "\n",
              "    .dataframe tbody tr th {\n",
              "        vertical-align: top;\n",
              "    }\n",
              "\n",
              "    .dataframe thead th {\n",
              "        text-align: right;\n",
              "    }\n",
              "</style>\n",
              "<table border=\"1\" class=\"dataframe\">\n",
              "  <thead>\n",
              "    <tr style=\"text-align: right;\">\n",
              "      <th></th>\n",
              "      <th>0</th>\n",
              "      <th>1</th>\n",
              "    </tr>\n",
              "  </thead>\n",
              "  <tbody>\n",
              "    <tr>\n",
              "      <th>0</th>\n",
              "      <td>560</td>\n",
              "      <td>1019</td>\n",
              "    </tr>\n",
              "    <tr>\n",
              "      <th>1</th>\n",
              "      <td>8</td>\n",
              "      <td>27</td>\n",
              "    </tr>\n",
              "  </tbody>\n",
              "</table>\n",
              "</div>"
            ],
            "text/plain": [
              "     0     1\n",
              "0  560  1019\n",
              "1    8    27"
            ]
          },
          "metadata": {},
          "execution_count": 19
        }
      ]
    },
    {
      "cell_type": "markdown",
      "metadata": {
        "id": "HK-rf0hfaryY"
      },
      "source": [
        "Adding Performance Data"
      ]
    },
    {
      "cell_type": "code",
      "metadata": {
        "colab": {
          "base_uri": "https://localhost:8080/",
          "height": 253
        },
        "id": "8g19hoUKaqDt",
        "outputId": "ae873278-e8e4-4eac-9a61-83f7a6af6780"
      },
      "source": [
        "train = lag(train_df, 1)\n",
        "test = lag(test_df, 1)\n",
        "col = ['PersonID_masked','Department', 'Level', 'tenure', 'Project_count', 'p2p_value', 'internal_pro_ratio',\n",
        "       'earned_leave', 'sick/personal leave', 'lwp', 'leave_last_3_months', 'reward_gap',\n",
        "       'certi_count', 'certi_gap', 'Status', 'PhysicalLocation']\n",
        "train = train[col].copy()\n",
        "test = test[col].copy()\n",
        "train.info()"
      ],
      "execution_count": null,
      "outputs": [
        {
          "output_type": "error",
          "ename": "NameError",
          "evalue": "ignored",
          "traceback": [
            "\u001b[0;31m---------------------------------------------------------------------------\u001b[0m",
            "\u001b[0;31mNameError\u001b[0m                                 Traceback (most recent call last)",
            "\u001b[0;32m<ipython-input-72-765ca2f5a27b>\u001b[0m in \u001b[0;36m<module>\u001b[0;34m()\u001b[0m\n\u001b[0;32m----> 1\u001b[0;31m \u001b[0mtrain\u001b[0m \u001b[0;34m=\u001b[0m \u001b[0mlag\u001b[0m\u001b[0;34m(\u001b[0m\u001b[0mtrain_df\u001b[0m\u001b[0;34m,\u001b[0m \u001b[0;36m1\u001b[0m\u001b[0;34m)\u001b[0m\u001b[0;34m\u001b[0m\u001b[0;34m\u001b[0m\u001b[0m\n\u001b[0m\u001b[1;32m      2\u001b[0m \u001b[0mtest\u001b[0m \u001b[0;34m=\u001b[0m \u001b[0mlag\u001b[0m\u001b[0;34m(\u001b[0m\u001b[0mtest_df\u001b[0m\u001b[0;34m,\u001b[0m \u001b[0;36m1\u001b[0m\u001b[0;34m)\u001b[0m\u001b[0;34m\u001b[0m\u001b[0;34m\u001b[0m\u001b[0m\n\u001b[1;32m      3\u001b[0m col = ['PersonID_masked','Department', 'Level', 'tenure', 'Project_count', 'p2p_value', 'internal_pro_ratio',\n\u001b[1;32m      4\u001b[0m        \u001b[0;34m'earned_leave'\u001b[0m\u001b[0;34m,\u001b[0m \u001b[0;34m'sick/personal leave'\u001b[0m\u001b[0;34m,\u001b[0m \u001b[0;34m'lwp'\u001b[0m\u001b[0;34m,\u001b[0m \u001b[0;34m'leave_last_3_months'\u001b[0m\u001b[0;34m,\u001b[0m \u001b[0;34m'reward_gap'\u001b[0m\u001b[0;34m,\u001b[0m\u001b[0;34m\u001b[0m\u001b[0;34m\u001b[0m\u001b[0m\n\u001b[1;32m      5\u001b[0m        'certi_count', 'certi_gap', 'Status', 'PhysicalLocation']\n",
            "\u001b[0;31mNameError\u001b[0m: name 'lag' is not defined"
          ]
        }
      ]
    },
    {
      "cell_type": "code",
      "metadata": {
        "id": "O7-g67zAe68Y"
      },
      "source": [
        "performance_replace = {\n",
        "    'Exceeds Goals': 1, 'Achieves Goals': 0, 'Significantly Exceeds Goals': 2, 'Not meeting goals': -1, '-': 0,\n",
        "    'Not Meeting Goals': -1, 'Exceeds Goal': 1, 'Achieves Goal': 0, 'Not Meeting Goal': -1 , 'na': 0\n",
        "}\n",
        "\n",
        "df.replace(performance_replace, inplace = True)"
      ],
      "execution_count": null,
      "outputs": []
    },
    {
      "cell_type": "code",
      "metadata": {
        "id": "LWiQoP9CfJ7_"
      },
      "source": [
        "df.fillna(value= 9999, inplace = True)\n",
        "ls = []\n",
        "for i in range(df.shape[0]):\n",
        "    value = 0\n",
        "    v = []\n",
        "    for j in range(1,4):\n",
        "        if df.iloc[i][j] == 9999:\n",
        "            pass\n",
        "        else:\n",
        "            v.append(j * df.iloc[i][j])\n",
        "    if len(v) > 0:\n",
        "        value = sum(v)/ len(v)\n",
        "    ls.append(value)\n",
        "df['performance'] = ls"
      ],
      "execution_count": null,
      "outputs": []
    },
    {
      "cell_type": "code",
      "metadata": {
        "id": "sqiT2KV5fRMl"
      },
      "source": [
        "df['PersonID_masked'] = df['PersonID_Masked']\n",
        "df.drop(['PersonID_Masked'], axis = 1, inplace = True)"
      ],
      "execution_count": null,
      "outputs": []
    },
    {
      "cell_type": "code",
      "metadata": {
        "id": "O2HC7YmAfOj1"
      },
      "source": [
        "train = train.merge(df, on = 'PersonID_masked', how = 'left').copy()\n",
        "test = test.merge(df, on = 'PersonID_masked', how = 'left').copy()"
      ],
      "execution_count": null,
      "outputs": []
    },
    {
      "cell_type": "code",
      "metadata": {
        "id": "l4Qyaqrba2di"
      },
      "source": [
        "lvl = {'6A': 6.5,\n",
        "       'CW': 6.5,\n",
        "       '6B': 6.5}\n",
        "train.replace(lvl, inplace = True)\n",
        "test.replace(lvl, inplace = True)\n",
        "train['Level'] = train['Level'].apply(lambda x: float(x))\n",
        "test['Level'] = test['Level'].apply(lambda x: float(x))\n",
        "\n",
        "columns =  ['Status', 'Department']\n",
        "encode = LabelEncoder()\n",
        "for col in columns:\n",
        "  i = train.columns.get_loc(col)\n",
        "  train.iloc[:,i] = train.apply(lambda i:encode.fit_transform(i.astype(str)), axis=0, result_type='expand')\n",
        "  i = test.columns.get_loc(col)\n",
        "  test.iloc[:,i] = test.apply(lambda i:encode.fit_transform(i.astype(str)), axis=0, result_type='expand')\n",
        "#    train[col] = encode.fit_transform(train[col])\n",
        "#    test[col] = encode.fit_transform(test[col])\n",
        "\n",
        "\n",
        "\n",
        "\n",
        "columns = ['Project_count', 'earned_leave', 'sick/personal leave', 'lwp']\n",
        "for col in columns:\n",
        "    m = train[col].mean()\n",
        "    train[col].fillna(value = m, inplace = True)\n",
        "    m = test[col].mean()\n",
        "    test[col].fillna(value = m, inplace = True)\n",
        "test.fillna(value = 0, inplace = True)\n",
        "train.fillna(value = 0, inplace = True)\n",
        "\n",
        "train_ind = train[train['PhysicalLocation'] == 'India'].copy()\n",
        "train_usa = train[train['PhysicalLocation'] == 'USA']\n",
        "test_ind = test[test['PhysicalLocation'] == 'India'].copy()\n",
        "test_usa = test[test['PhysicalLocation'] == 'USA']"
      ],
      "execution_count": null,
      "outputs": []
    },
    {
      "cell_type": "code",
      "metadata": {
        "id": "fZ89o3Ala2Ud"
      },
      "source": [
        "col = ['Department', 'Level', 'tenure', 'Project_count', 'p2p_value', 'internal_pro_ratio',\n",
        "       'earned_leave', 'sick/personal leave', 'lwp', 'leave_last_3_months', 'reward_gap',\n",
        "       'certi_count', 'certi_gap', 'performance', 'compa_Ratio']\n",
        "x_train_ind = train_ind[col]\n",
        "y_train_ind = train_ind['Status']\n",
        "x_test_ind = test_ind[col]\n",
        "y_test_ind = test_ind['Status']\n",
        "x_train_usa = train_usa[col]\n",
        "y_train_usa = train_usa['Status']\n",
        "x_test_usa = test_usa[col]\n",
        "y_test_usa = test_usa['Status']"
      ],
      "execution_count": null,
      "outputs": []
    },
    {
      "cell_type": "code",
      "metadata": {
        "colab": {
          "base_uri": "https://localhost:8080/"
        },
        "id": "0b6GaExTdOHn",
        "outputId": "442fa18c-d8ae-499c-9421-10fd037697b4"
      },
      "source": [
        "train.info()"
      ],
      "execution_count": null,
      "outputs": [
        {
          "output_type": "stream",
          "name": "stdout",
          "text": [
            "<class 'pandas.core.frame.DataFrame'>\n",
            "Int64Index: 2342 entries, 0 to 2341\n",
            "Data columns (total 23 columns):\n",
            " #   Column                Non-Null Count  Dtype  \n",
            "---  ------                --------------  -----  \n",
            " 0   PersonID_masked       2342 non-null   int64  \n",
            " 1   Department            2342 non-null   int64  \n",
            " 2   Level                 2342 non-null   float64\n",
            " 3   tenure                2342 non-null   float64\n",
            " 4   Project_count         2342 non-null   float64\n",
            " 5   p2p_value             2342 non-null   float64\n",
            " 6   internal_pro_ratio    2342 non-null   float64\n",
            " 7   earned_leave          2342 non-null   float64\n",
            " 8   sick/personal leave   2342 non-null   float64\n",
            " 9   lwp                   2342 non-null   float64\n",
            " 10  leave_last_3_months   2342 non-null   float64\n",
            " 11  reward_gap            2342 non-null   float64\n",
            " 12  certi_count           2342 non-null   float64\n",
            " 13  certi_gap             2342 non-null   float64\n",
            " 14  Status                2342 non-null   int64  \n",
            " 15  PhysicalLocation      2342 non-null   object \n",
            " 16  Unnamed: 0            2342 non-null   int64  \n",
            " 17  Perf_2020             2342 non-null   float64\n",
            " 18  perf_2018             2342 non-null   float64\n",
            " 19  perf_2019             2342 non-null   float64\n",
            " 20  compa_Ratio           2342 non-null   float64\n",
            " 21  Termination_Category  2342 non-null   object \n",
            " 22  performance           2342 non-null   float64\n",
            "dtypes: float64(17), int64(4), object(2)\n",
            "memory usage: 439.1+ KB\n"
          ]
        }
      ]
    },
    {
      "cell_type": "code",
      "metadata": {
        "colab": {
          "base_uri": "https://localhost:8080/",
          "height": 303
        },
        "id": "7nF-93Tua2J1",
        "outputId": "a4192f69-25a4-4c7b-cbb6-7668072be646"
      },
      "source": [
        "#Building a naive Decision tree model with its deault value\n",
        "\n",
        "clf_d = DecisionTreeClassifier() \n",
        "clf_d.fit(x_train_ind, y_train_ind)\n",
        "print(f'Accuracy on Train Data : {clf_d.score(x_train_ind, y_train_ind)}')\n",
        "print(f'Accuracy on Test Data: {clf_d.score(x_test_ind, y_test_ind)}')\n",
        "y_pred = clf_d.predict(x_test_ind)\n",
        "print(classification_report(y_test_ind, y_pred))\n",
        "pd.DataFrame(confusion_matrix(y_test_ind, y_pred))"
      ],
      "execution_count": null,
      "outputs": [
        {
          "output_type": "stream",
          "name": "stdout",
          "text": [
            "Accuracy on Train Data : 1.0\n",
            "Accuracy on Test Data: 0.9440242057488654\n",
            "              precision    recall  f1-score   support\n",
            "\n",
            "           0       0.98      0.97      0.97      1934\n",
            "           1       0.04      0.06      0.05        49\n",
            "\n",
            "    accuracy                           0.94      1983\n",
            "   macro avg       0.51      0.51      0.51      1983\n",
            "weighted avg       0.95      0.94      0.95      1983\n",
            "\n"
          ]
        },
        {
          "output_type": "execute_result",
          "data": {
            "text/html": [
              "<div>\n",
              "<style scoped>\n",
              "    .dataframe tbody tr th:only-of-type {\n",
              "        vertical-align: middle;\n",
              "    }\n",
              "\n",
              "    .dataframe tbody tr th {\n",
              "        vertical-align: top;\n",
              "    }\n",
              "\n",
              "    .dataframe thead th {\n",
              "        text-align: right;\n",
              "    }\n",
              "</style>\n",
              "<table border=\"1\" class=\"dataframe\">\n",
              "  <thead>\n",
              "    <tr style=\"text-align: right;\">\n",
              "      <th></th>\n",
              "      <th>0</th>\n",
              "      <th>1</th>\n",
              "    </tr>\n",
              "  </thead>\n",
              "  <tbody>\n",
              "    <tr>\n",
              "      <th>0</th>\n",
              "      <td>1869</td>\n",
              "      <td>65</td>\n",
              "    </tr>\n",
              "    <tr>\n",
              "      <th>1</th>\n",
              "      <td>46</td>\n",
              "      <td>3</td>\n",
              "    </tr>\n",
              "  </tbody>\n",
              "</table>\n",
              "</div>"
            ],
            "text/plain": [
              "      0   1\n",
              "0  1869  65\n",
              "1    46   3"
            ]
          },
          "metadata": {},
          "execution_count": 94
        }
      ]
    },
    {
      "cell_type": "code",
      "metadata": {
        "colab": {
          "base_uri": "https://localhost:8080/",
          "height": 303
        },
        "id": "c3e9yQDua18l",
        "outputId": "69ca4f81-e28c-4fb4-d5d0-235c0aeac0b8"
      },
      "source": [
        "model_d = xgboost.XGBClassifier()\n",
        "model_d.fit(x_train_ind, y_train_ind)\n",
        "print(f'Accuracy on Train Data: {model_d.score(x_train_ind, y_train_ind)}')\n",
        "print(f'Accuracy on Test Data: {model_d.score(x_test_ind, y_test_ind)}')\n",
        "y_pred = model_d.predict(x_test_ind)\n",
        "print(classification_report(y_test_ind, y_pred))\n",
        "pd.DataFrame(confusion_matrix(y_test_ind, y_pred))"
      ],
      "execution_count": null,
      "outputs": [
        {
          "output_type": "stream",
          "name": "stdout",
          "text": [
            "Accuracy on Train Data: 0.9822454308093995\n",
            "Accuracy on Test Data: 0.9722642460917801\n",
            "              precision    recall  f1-score   support\n",
            "\n",
            "           0       0.98      1.00      0.99      1934\n",
            "           1       0.00      0.00      0.00        49\n",
            "\n",
            "    accuracy                           0.97      1983\n",
            "   macro avg       0.49      0.50      0.49      1983\n",
            "weighted avg       0.95      0.97      0.96      1983\n",
            "\n"
          ]
        },
        {
          "output_type": "execute_result",
          "data": {
            "text/html": [
              "<div>\n",
              "<style scoped>\n",
              "    .dataframe tbody tr th:only-of-type {\n",
              "        vertical-align: middle;\n",
              "    }\n",
              "\n",
              "    .dataframe tbody tr th {\n",
              "        vertical-align: top;\n",
              "    }\n",
              "\n",
              "    .dataframe thead th {\n",
              "        text-align: right;\n",
              "    }\n",
              "</style>\n",
              "<table border=\"1\" class=\"dataframe\">\n",
              "  <thead>\n",
              "    <tr style=\"text-align: right;\">\n",
              "      <th></th>\n",
              "      <th>0</th>\n",
              "      <th>1</th>\n",
              "    </tr>\n",
              "  </thead>\n",
              "  <tbody>\n",
              "    <tr>\n",
              "      <th>0</th>\n",
              "      <td>1928</td>\n",
              "      <td>6</td>\n",
              "    </tr>\n",
              "    <tr>\n",
              "      <th>1</th>\n",
              "      <td>49</td>\n",
              "      <td>0</td>\n",
              "    </tr>\n",
              "  </tbody>\n",
              "</table>\n",
              "</div>"
            ],
            "text/plain": [
              "      0  1\n",
              "0  1928  6\n",
              "1    49  0"
            ]
          },
          "metadata": {},
          "execution_count": 95
        }
      ]
    },
    {
      "cell_type": "code",
      "metadata": {
        "colab": {
          "base_uri": "https://localhost:8080/",
          "height": 389
        },
        "id": "4WQxr6CDa1ku",
        "outputId": "a063043c-3475-44b6-f4e0-e9dbeceec11b"
      },
      "source": [
        "#XGBoost\n",
        "#hyper-parameter Tuning\n",
        "\n",
        "#Providing a list of values for some xgboost model parameter\n",
        "params = {\n",
        "    'learning_rate': [0.05, 0.10, 0.15, 0.20, 0.25, 0.30],\n",
        "    'max_depth': [3,5,7,9,11],\n",
        "    'min_child_weight': [1, 2, 3, 5,7, 9],                            \n",
        "    'gamma': [0.0, 0.1, 0.2, 0.3, 0.4],\n",
        "    'colsample_bytree': [0.3, 0.4, 0.5, 0.7],\n",
        "    'n_estimators': [200,400,600,800],\n",
        "    'scale_pos_weight': [1, 5, 10, 20, 25, 50, 75, 100]\n",
        "}\n",
        "\n",
        "\n",
        "model = xgboost.XGBClassifier()                #Defining the model\n",
        "\n",
        "#Defining the Randomized search Cv function with its own parameter and evaluation metrix\n",
        "random_search = RandomizedSearchCV(model, param_distributions = params, n_iter = 30, \n",
        "                                   scoring = 'f1', n_jobs = -1, cv = 5, verbose = 3)\n",
        "\n",
        "random_search.fit(x_train_ind,y_train_ind)             #fitting the random search model\n",
        "\n",
        "random_search.best_estimator_                  #getting the best parameter value for xg boost\n",
        "model_d = random_search.best_estimator_\n",
        "\n",
        "model_d.fit(x_train_ind, y_train_ind)\n",
        "print(f'Accuracy on Train Data: {model_d.score(x_train_ind, y_train_ind)}')\n",
        "print(f'Accuracy on Test Data: {model_d.score(x_test_ind, y_test_ind)}')\n",
        "\n",
        "y_pred = model_d.predict(x_test_ind)\n",
        "print(classification_report(y_test_ind, y_pred))\n",
        "pd.DataFrame(confusion_matrix(y_test_ind, y_pred))"
      ],
      "execution_count": null,
      "outputs": [
        {
          "output_type": "stream",
          "name": "stdout",
          "text": [
            "Fitting 5 folds for each of 30 candidates, totalling 150 fits\n"
          ]
        },
        {
          "output_type": "stream",
          "name": "stderr",
          "text": [
            "[Parallel(n_jobs=-1)]: Using backend LokyBackend with 2 concurrent workers.\n",
            "[Parallel(n_jobs=-1)]: Done  28 tasks      | elapsed:    9.9s\n",
            "[Parallel(n_jobs=-1)]: Done 124 tasks      | elapsed:   39.0s\n",
            "[Parallel(n_jobs=-1)]: Done 150 out of 150 | elapsed:   47.9s finished\n"
          ]
        },
        {
          "output_type": "stream",
          "name": "stdout",
          "text": [
            "Accuracy on Train Data: 0.9890339425587468\n",
            "Accuracy on Test Data: 0.9324256177508825\n",
            "              precision    recall  f1-score   support\n",
            "\n",
            "           0       0.98      0.96      0.96      1934\n",
            "           1       0.02      0.04      0.03        49\n",
            "\n",
            "    accuracy                           0.93      1983\n",
            "   macro avg       0.50      0.50      0.50      1983\n",
            "weighted avg       0.95      0.93      0.94      1983\n",
            "\n"
          ]
        },
        {
          "output_type": "execute_result",
          "data": {
            "text/html": [
              "<div>\n",
              "<style scoped>\n",
              "    .dataframe tbody tr th:only-of-type {\n",
              "        vertical-align: middle;\n",
              "    }\n",
              "\n",
              "    .dataframe tbody tr th {\n",
              "        vertical-align: top;\n",
              "    }\n",
              "\n",
              "    .dataframe thead th {\n",
              "        text-align: right;\n",
              "    }\n",
              "</style>\n",
              "<table border=\"1\" class=\"dataframe\">\n",
              "  <thead>\n",
              "    <tr style=\"text-align: right;\">\n",
              "      <th></th>\n",
              "      <th>0</th>\n",
              "      <th>1</th>\n",
              "    </tr>\n",
              "  </thead>\n",
              "  <tbody>\n",
              "    <tr>\n",
              "      <th>0</th>\n",
              "      <td>1847</td>\n",
              "      <td>87</td>\n",
              "    </tr>\n",
              "    <tr>\n",
              "      <th>1</th>\n",
              "      <td>47</td>\n",
              "      <td>2</td>\n",
              "    </tr>\n",
              "  </tbody>\n",
              "</table>\n",
              "</div>"
            ],
            "text/plain": [
              "      0   1\n",
              "0  1847  87\n",
              "1    47   2"
            ]
          },
          "metadata": {},
          "execution_count": 96
        }
      ]
    },
    {
      "cell_type": "code",
      "metadata": {
        "colab": {
          "base_uri": "https://localhost:8080/",
          "height": 295
        },
        "id": "ou4xU6t7dupi",
        "outputId": "4b3b2c36-29f6-40ca-b966-2044b738e2db"
      },
      "source": [
        "plot_importance(model_d)\n",
        "pyplot.show()"
      ],
      "execution_count": null,
      "outputs": [
        {
          "output_type": "display_data",
          "data": {
            "image/png": "[encoded data removed]",
            "text/plain": [
              "<Figure size 432x288 with 1 Axes>"
            ]
          },
          "metadata": {
            "needs_background": "light"
          }
        }
      ]
    },
    {
      "cell_type": "code",
      "metadata": {
        "colab": {
          "base_uri": "https://localhost:8080/",
          "height": 303
        },
        "id": "Dj7Wi3jXduiE",
        "outputId": "3fc69427-9130-42a5-e931-e6a721dd78e6"
      },
      "source": [
        "weights = {0:1.0, 1:22}\n",
        "model = SVC(kernel =  'linear',class_weight = weights)\n",
        "model.fit(x_train_ind, y_train_ind)\n",
        "print(f'Accuracy on Train Data: {model.score(x_train_ind, y_train_ind)}')\n",
        "print(f'Accuracy on test Data: {model.score(x_test_ind, y_test_ind)}')\n",
        "y_pred = model.predict(x_test_ind)\n",
        "print(classification_report(y_test_ind, y_pred))\n",
        "pd.DataFrame(confusion_matrix(y_test_ind, y_pred))"
      ],
      "execution_count": null,
      "outputs": [
        {
          "output_type": "stream",
          "name": "stdout",
          "text": [
            "Accuracy on Train Data: 0.791644908616188\n",
            "Accuracy on test Data: 0.8088754412506304\n",
            "              precision    recall  f1-score   support\n",
            "\n",
            "           0       0.98      0.82      0.89      1934\n",
            "           1       0.04      0.31      0.07        49\n",
            "\n",
            "    accuracy                           0.81      1983\n",
            "   macro avg       0.51      0.56      0.48      1983\n",
            "weighted avg       0.96      0.81      0.87      1983\n",
            "\n"
          ]
        },
        {
          "output_type": "execute_result",
          "data": {
            "text/html": [
              "<div>\n",
              "<style scoped>\n",
              "    .dataframe tbody tr th:only-of-type {\n",
              "        vertical-align: middle;\n",
              "    }\n",
              "\n",
              "    .dataframe tbody tr th {\n",
              "        vertical-align: top;\n",
              "    }\n",
              "\n",
              "    .dataframe thead th {\n",
              "        text-align: right;\n",
              "    }\n",
              "</style>\n",
              "<table border=\"1\" class=\"dataframe\">\n",
              "  <thead>\n",
              "    <tr style=\"text-align: right;\">\n",
              "      <th></th>\n",
              "      <th>0</th>\n",
              "      <th>1</th>\n",
              "    </tr>\n",
              "  </thead>\n",
              "  <tbody>\n",
              "    <tr>\n",
              "      <th>0</th>\n",
              "      <td>1589</td>\n",
              "      <td>345</td>\n",
              "    </tr>\n",
              "    <tr>\n",
              "      <th>1</th>\n",
              "      <td>34</td>\n",
              "      <td>15</td>\n",
              "    </tr>\n",
              "  </tbody>\n",
              "</table>\n",
              "</div>"
            ],
            "text/plain": [
              "      0    1\n",
              "0  1589  345\n",
              "1    34   15"
            ]
          },
          "metadata": {},
          "execution_count": 98
        }
      ]
    },
    {
      "cell_type": "code",
      "metadata": {
        "colab": {
          "base_uri": "https://localhost:8080/",
          "height": 389
        },
        "id": "T16cRlr0duZk",
        "outputId": "854f9df0-0da0-4241-8e07-36fc43e496d1"
      },
      "source": [
        "params = {\n",
        "    'C': [0.10,0.20,0.30, 0.5, 0.7, 0.9, 1, 1.5],\n",
        "    'kernel': ['linear', 'poly', 'sigmoid', 'rbf'],\n",
        "    'class_weight': ['balanced']\n",
        "}\n",
        "model = SVC()                #Defining the model\n",
        "\n",
        "#Defining the Randomized search Cv function with its own parameter and evaluation metrix\n",
        "random_search = RandomizedSearchCV(model, param_distributions = params, n_iter = 30, \n",
        "                                   scoring = 'roc_auc', n_jobs = -1, cv = 5, verbose = 3)\n",
        "\n",
        "random_search.fit(x_train_ind,y_train_ind)             #fitting the random search model\n",
        "\n",
        "random_search.best_estimator_                  #getting the best parameter value for xg boost\n",
        "\n",
        "model = random_search.best_estimator_\n",
        "model.fit(x_train_ind, y_train_ind)\n",
        "print(f'Accuracy on Train Data: {model.score(x_train_ind, y_train_ind)}')\n",
        "print(f'Accuracy on test Data: {model.score(x_test_ind, y_test_ind)}')\n",
        "y_pred = model.predict(x_test_ind)\n",
        "print(classification_report(y_test_ind, y_pred))\n",
        "pd.DataFrame(confusion_matrix(y_test_ind, y_pred))"
      ],
      "execution_count": null,
      "outputs": [
        {
          "output_type": "stream",
          "name": "stdout",
          "text": [
            "Fitting 5 folds for each of 30 candidates, totalling 150 fits\n"
          ]
        },
        {
          "output_type": "stream",
          "name": "stderr",
          "text": [
            "[Parallel(n_jobs=-1)]: Using backend LokyBackend with 2 concurrent workers.\n",
            "[Parallel(n_jobs=-1)]: Done  28 tasks      | elapsed:   59.5s\n",
            "[Parallel(n_jobs=-1)]: Done 124 tasks      | elapsed:  3.1min\n",
            "[Parallel(n_jobs=-1)]: Done 150 out of 150 | elapsed:  3.2min finished\n"
          ]
        },
        {
          "output_type": "stream",
          "name": "stdout",
          "text": [
            "Accuracy on Train Data: 0.8992167101827676\n",
            "Accuracy on test Data: 0.9092284417549168\n",
            "              precision    recall  f1-score   support\n",
            "\n",
            "           0       0.98      0.93      0.95      1934\n",
            "           1       0.05      0.16      0.08        49\n",
            "\n",
            "    accuracy                           0.91      1983\n",
            "   macro avg       0.52      0.55      0.52      1983\n",
            "weighted avg       0.95      0.91      0.93      1983\n",
            "\n"
          ]
        },
        {
          "output_type": "execute_result",
          "data": {
            "text/html": [
              "<div>\n",
              "<style scoped>\n",
              "    .dataframe tbody tr th:only-of-type {\n",
              "        vertical-align: middle;\n",
              "    }\n",
              "\n",
              "    .dataframe tbody tr th {\n",
              "        vertical-align: top;\n",
              "    }\n",
              "\n",
              "    .dataframe thead th {\n",
              "        text-align: right;\n",
              "    }\n",
              "</style>\n",
              "<table border=\"1\" class=\"dataframe\">\n",
              "  <thead>\n",
              "    <tr style=\"text-align: right;\">\n",
              "      <th></th>\n",
              "      <th>0</th>\n",
              "      <th>1</th>\n",
              "    </tr>\n",
              "  </thead>\n",
              "  <tbody>\n",
              "    <tr>\n",
              "      <th>0</th>\n",
              "      <td>1795</td>\n",
              "      <td>139</td>\n",
              "    </tr>\n",
              "    <tr>\n",
              "      <th>1</th>\n",
              "      <td>41</td>\n",
              "      <td>8</td>\n",
              "    </tr>\n",
              "  </tbody>\n",
              "</table>\n",
              "</div>"
            ],
            "text/plain": [
              "      0    1\n",
              "0  1795  139\n",
              "1    41    8"
            ]
          },
          "metadata": {},
          "execution_count": 99
        }
      ]
    },
    {
      "cell_type": "markdown",
      "metadata": {
        "id": "6CX2WuhQm9Bs"
      },
      "source": [
        "Using Imbalanced learn libraries"
      ]
    },
    {
      "cell_type": "code",
      "metadata": {
        "colab": {
          "base_uri": "https://localhost:8080/"
        },
        "id": "2TUOHQlmduRE",
        "outputId": "e038a140-1cb6-4601-a334-ff94afc73d3a"
      },
      "source": [
        "#train = lag(train_df, 1)\n",
        "#test = lag(test_df, 1)\n",
        "col = ['PersonID_masked','Department', 'Level', 'tenure', 'Project_count', 'p2p_value', 'internal_pro_ratio',\n",
        "       'earned_leave', 'sick/personal leave', 'lwp', 'leave_last_3_months', 'reward_gap',\n",
        "       'certi_count', 'certi_gap', 'Status', 'PhysicalLocation']\n",
        "train = train[col].copy()\n",
        "test = test[col].copy()\n",
        "train.info()"
      ],
      "execution_count": null,
      "outputs": [
        {
          "output_type": "stream",
          "name": "stdout",
          "text": [
            "<class 'pandas.core.frame.DataFrame'>\n",
            "Int64Index: 2051 entries, 620 to 696\n",
            "Data columns (total 16 columns):\n",
            " #   Column               Non-Null Count  Dtype  \n",
            "---  ------               --------------  -----  \n",
            " 0   PersonID_masked      2051 non-null   int64  \n",
            " 1   Department           2051 non-null   object \n",
            " 2   Level                2051 non-null   object \n",
            " 3   tenure               2051 non-null   float64\n",
            " 4   Project_count        2051 non-null   float64\n",
            " 5   p2p_value            2051 non-null   float64\n",
            " 6   internal_pro_ratio   2051 non-null   float64\n",
            " 7   earned_leave         2051 non-null   float64\n",
            " 8   sick/personal leave  2051 non-null   float64\n",
            " 9   lwp                  2051 non-null   float64\n",
            " 10  leave_last_3_months  2051 non-null   float64\n",
            " 11  reward_gap           2051 non-null   float64\n",
            " 12  certi_count          2051 non-null   float64\n",
            " 13  certi_gap            2051 non-null   float64\n",
            " 14  Status               2051 non-null   int64  \n",
            " 15  PhysicalLocation     2051 non-null   object \n",
            "dtypes: float64(11), int64(2), object(3)\n",
            "memory usage: 352.4+ KB\n"
          ]
        }
      ]
    },
    {
      "cell_type": "code",
      "metadata": {
        "id": "ubUBX9-3OKd7"
      },
      "source": [
        "columns = ['Dep_PPE', 'Dep_Digital Infrastructure', 'Dep_Data Analytics & Engineering ', 'Dep_Customer Experience Solution']\n",
        "train = pd.merge(left=train, left_index=True,\n",
        "                  right=pd.get_dummies(train.Department, prefix='Dep')[columns], right_index=True,\n",
        "                  how='left').copy()\n",
        "\n",
        "test = pd.merge(left=test, left_index=True,\n",
        "                  right=pd.get_dummies(test.Department, prefix='Dep')[columns], right_index=True,\n",
        "                  how='left')\n",
        "\n",
        "\n",
        "train = pd.merge(left=train, left_index=True,\n",
        "                  right=pd.get_dummies(train.Level, prefix='Level'), right_index=True,\n",
        "                  how='left').copy()\n",
        "\n",
        "test = pd.merge(left=test, left_index=True,\n",
        "                  right=pd.get_dummies(test.Level, prefix='Level'), right_index=True,\n",
        "                  how='left')\n",
        "\n",
        "\n",
        "train['Status'] = encode.fit_transform(train['Status'])\n",
        "test['Status'] = encode.fit_transform(test['Status'])\n",
        "\n",
        "\n",
        "columns = ['Project_count', 'earned_leave', 'sick/personal leave', 'lwp']\n",
        "for col in columns:\n",
        "    m = train[col].mean()\n",
        "    train[col].fillna(value = m, inplace = True)\n",
        "    m = test[col].mean()\n",
        "    test[col].fillna(value = m, inplace = True)\n",
        "test.fillna(value = 0, inplace = True)\n",
        "train.fillna(value = 0, inplace = True)\n",
        "\n",
        "train_ind = train[train['PhysicalLocation'] == 'USA'].copy()\n",
        "train_usa = train[train['PhysicalLocation'] == 'USA']\n",
        "test_ind = test[test['PhysicalLocation'] == 'USA'].copy()\n",
        "test_usa = test[test['PhysicalLocation'] == 'USA']"
      ],
      "execution_count": null,
      "outputs": []
    },
    {
      "cell_type": "code",
      "metadata": {
        "id": "CyLmhcHVn9DU"
      },
      "source": [
        "'''lvl = {'6A': 6.5,\n",
        "       'CW': 6.5,\n",
        "       '6B': 6.5}\n",
        "train.replace(lvl, inplace = True)\n",
        "test.replace(lvl, inplace = True)\n",
        "train['Level'] = train['Level'].apply(lambda x: float(x))\n",
        "test['Level'] = test['Level'].apply(lambda x: float(x))\n",
        "\n",
        "columns =  ['Status', 'Department']\n",
        "encode = LabelEncoder()\n",
        "for col in columns:\n",
        "  i = train.columns.get_loc(col)\n",
        "  train.iloc[:,i] = train.apply(lambda i:encode.fit_transform(i.astype(str)), axis=0, result_type='expand')\n",
        "  i = test.columns.get_loc(col)\n",
        "  test.iloc[:,i] = test.apply(lambda i:encode.fit_transform(i.astype(str)), axis=0, result_type='expand')\n",
        "#    train[col] = encode.fit_transform(train[col])\n",
        "#    test[col] = encode.fit_transform(test[col])\n",
        "\n",
        "\n",
        "\n",
        "\n",
        "columns = ['Project_count', 'earned_leave', 'sick/personal leave', 'lwp']\n",
        "for col in columns:\n",
        "    m = train[col].mean()\n",
        "    train[col].fillna(value = m, inplace = True)\n",
        "    m = test[col].mean()\n",
        "    test[col].fillna(value = m, inplace = True)\n",
        "test.fillna(value = 0, inplace = True)\n",
        "train.fillna(value = 0, inplace = True)\n",
        "\n",
        "train_ind = train[train['PhysicalLocation'] == 'India'].copy()\n",
        "train_usa = train[train['PhysicalLocation'] == 'USA']\n",
        "test_ind = test[test['PhysicalLocation'] == 'India'].copy()\n",
        "test_usa = test[test['PhysicalLocation'] == 'USA']'''"
      ],
      "execution_count": null,
      "outputs": []
    },
    {
      "cell_type": "code",
      "metadata": {
        "colab": {
          "base_uri": "https://localhost:8080/"
        },
        "id": "h_kqtUioOcem",
        "outputId": "b88abc41-0498-452d-d38f-48ba6d462307"
      },
      "source": [
        "train_ind.columns"
      ],
      "execution_count": null,
      "outputs": [
        {
          "output_type": "execute_result",
          "data": {
            "text/plain": [
              "Index(['PersonID_masked', 'Department', 'Level', 'tenure', 'Project_count',\n",
              "       'p2p_value', 'internal_pro_ratio', 'earned_leave',\n",
              "       'sick/personal leave', 'lwp', 'leave_last_3_months', 'reward_gap',\n",
              "       'certi_count', 'certi_gap', 'Status', 'PhysicalLocation', 'Dep_PPE',\n",
              "       'Dep_Digital Infrastructure', 'Dep_Data Analytics & Engineering ',\n",
              "       'Dep_Customer Experience Solution', 'Level_5', 'Level_6', 'Level_6A',\n",
              "       'Level_6B', 'Level_7', 'Level_8'],\n",
              "      dtype='object')"
            ]
          },
          "metadata": {},
          "execution_count": 22
        }
      ]
    },
    {
      "cell_type": "code",
      "metadata": {
        "id": "8NdQVHiVn-Bl"
      },
      "source": [
        "col = ['tenure', 'Project_count', 'p2p_value', 'internal_pro_ratio',\n",
        "       'earned_leave', 'sick/personal leave', 'lwp', 'leave_last_3_months', 'reward_gap',\n",
        "       'certi_count', 'certi_gap',  'Dep_PPE', 'Dep_Digital Infrastructure', 'Dep_Data Analytics & Engineering ',\n",
        "       'Dep_Customer Experience Solution', 'Level_5', 'Level_6', 'Level_6A', 'Level_7', 'Level_8']\n",
        "x_train_ind = train_ind[col]\n",
        "y_train_ind = train_ind['Status']\n",
        "x_test_ind = test_ind[col]\n",
        "y_test_ind = test_ind['Status']\n",
        "x_train_usa = train_usa[col]\n",
        "y_train_usa = train_usa['Status']\n",
        "x_test_usa = test_usa[col]\n",
        "y_test_usa = test_usa['Status']"
      ],
      "execution_count": null,
      "outputs": []
    },
    {
      "cell_type": "code",
      "metadata": {
        "colab": {
          "base_uri": "https://localhost:8080/"
        },
        "id": "VTVLukKsdt_R",
        "outputId": "39f5cfcc-9150-480f-c60e-9c147578b373"
      },
      "source": [
        "oversample = SMOTE()\n",
        "x_train_ind, y_train_ind = oversample.fit_resample(x_train_ind, y_train_ind)\n",
        "#x_train_usa, y_train_usa = oversample.fit_resample(x_train_usa, y_train_usa)"
      ],
      "execution_count": null,
      "outputs": [
        {
          "output_type": "stream",
          "name": "stderr",
          "text": [
            "/usr/local/lib/python3.7/dist-packages/sklearn/utils/deprecation.py:87: FutureWarning: Function safe_indexing is deprecated; safe_indexing is deprecated in version 0.22 and will be removed in version 0.24.\n",
            "  warnings.warn(msg, category=FutureWarning)\n"
          ]
        }
      ]
    },
    {
      "cell_type": "code",
      "metadata": {
        "colab": {
          "base_uri": "https://localhost:8080/"
        },
        "id": "jr2QahqkOuXD",
        "outputId": "c0d826b7-69d0-4688-caef-7256bdfa0f15"
      },
      "source": [
        "oversample = RandomOverSampler(sampling_strategy='minority')\n",
        "x_train_ind, y_train_ind = oversample.fit_resample(x_train_ind, y_train_ind)"
      ],
      "execution_count": null,
      "outputs": [
        {
          "output_type": "stream",
          "name": "stderr",
          "text": [
            "/usr/local/lib/python3.7/dist-packages/sklearn/utils/deprecation.py:87: FutureWarning: Function safe_indexing is deprecated; safe_indexing is deprecated in version 0.22 and will be removed in version 0.24.\n",
            "  warnings.warn(msg, category=FutureWarning)\n"
          ]
        }
      ]
    },
    {
      "cell_type": "code",
      "metadata": {
        "colab": {
          "base_uri": "https://localhost:8080/",
          "height": 303
        },
        "id": "UunojVRxdt0c",
        "outputId": "25046439-0806-4bc6-a7a2-c48e581aa3af"
      },
      "source": [
        "#Building a naive Decision tree model with its deault value\n",
        "\n",
        "clf_d = DecisionTreeClassifier() \n",
        "clf_d.fit(x_train_ind, y_train_ind)\n",
        "print(f'Accuracy on Train Data : {clf_d.score(x_train_ind, y_train_ind)}')\n",
        "print(f'Accuracy on Test Data: {clf_d.score(x_test_ind.values, y_test_ind)}')\n",
        "y_pred = clf_d.predict(x_test_ind.values)\n",
        "print(classification_report(y_test_ind, y_pred))\n",
        "pd.DataFrame(confusion_matrix(y_test_ind, y_pred))"
      ],
      "execution_count": null,
      "outputs": [
        {
          "output_type": "stream",
          "name": "stdout",
          "text": [
            "Accuracy on Train Data : 1.0\n",
            "Accuracy on Test Data: 0.936026936026936\n",
            "              precision    recall  f1-score   support\n",
            "\n",
            "           0       0.95      0.98      0.97       283\n",
            "           1       0.00      0.00      0.00        14\n",
            "\n",
            "    accuracy                           0.94       297\n",
            "   macro avg       0.48      0.49      0.48       297\n",
            "weighted avg       0.91      0.94      0.92       297\n",
            "\n"
          ]
        },
        {
          "output_type": "execute_result",
          "data": {
            "text/html": [
              "<div>\n",
              "<style scoped>\n",
              "    .dataframe tbody tr th:only-of-type {\n",
              "        vertical-align: middle;\n",
              "    }\n",
              "\n",
              "    .dataframe tbody tr th {\n",
              "        vertical-align: top;\n",
              "    }\n",
              "\n",
              "    .dataframe thead th {\n",
              "        text-align: right;\n",
              "    }\n",
              "</style>\n",
              "<table border=\"1\" class=\"dataframe\">\n",
              "  <thead>\n",
              "    <tr style=\"text-align: right;\">\n",
              "      <th></th>\n",
              "      <th>0</th>\n",
              "      <th>1</th>\n",
              "    </tr>\n",
              "  </thead>\n",
              "  <tbody>\n",
              "    <tr>\n",
              "      <th>0</th>\n",
              "      <td>278</td>\n",
              "      <td>5</td>\n",
              "    </tr>\n",
              "    <tr>\n",
              "      <th>1</th>\n",
              "      <td>14</td>\n",
              "      <td>0</td>\n",
              "    </tr>\n",
              "  </tbody>\n",
              "</table>\n",
              "</div>"
            ],
            "text/plain": [
              "     0  1\n",
              "0  278  5\n",
              "1   14  0"
            ]
          },
          "metadata": {},
          "execution_count": 130
        }
      ]
    },
    {
      "cell_type": "code",
      "metadata": {
        "colab": {
          "base_uri": "https://localhost:8080/",
          "height": 303
        },
        "id": "_u2kE6Pka1Dn",
        "outputId": "a30307e9-0342-4476-a443-7cb6bd48088c"
      },
      "source": [
        "model_d = xgboost.XGBClassifier()\n",
        "model_d.fit(x_train_ind, y_train_ind)\n",
        "print(f'Accuracy on Train Data: {model_d.score(x_train_ind, y_train_ind)}')\n",
        "print(f'Accuracy on Test Data: {model_d.score(x_test_ind.values, y_test_ind)}')\n",
        "y_pred = model_d.predict(x_test_ind.values)\n",
        "print(classification_report(y_test_ind, y_pred))\n",
        "pd.DataFrame(confusion_matrix(y_test_ind, y_pred))"
      ],
      "execution_count": null,
      "outputs": [
        {
          "output_type": "stream",
          "name": "stdout",
          "text": [
            "Accuracy on Train Data: 0.9965156794425087\n",
            "Accuracy on Test Data: 0.9191919191919192\n",
            "              precision    recall  f1-score   support\n",
            "\n",
            "           0       0.95      0.96      0.96       283\n",
            "           1       0.08      0.07      0.08        14\n",
            "\n",
            "    accuracy                           0.92       297\n",
            "   macro avg       0.52      0.52      0.52       297\n",
            "weighted avg       0.91      0.92      0.92       297\n",
            "\n"
          ]
        },
        {
          "output_type": "execute_result",
          "data": {
            "text/html": [
              "<div>\n",
              "<style scoped>\n",
              "    .dataframe tbody tr th:only-of-type {\n",
              "        vertical-align: middle;\n",
              "    }\n",
              "\n",
              "    .dataframe tbody tr th {\n",
              "        vertical-align: top;\n",
              "    }\n",
              "\n",
              "    .dataframe thead th {\n",
              "        text-align: right;\n",
              "    }\n",
              "</style>\n",
              "<table border=\"1\" class=\"dataframe\">\n",
              "  <thead>\n",
              "    <tr style=\"text-align: right;\">\n",
              "      <th></th>\n",
              "      <th>0</th>\n",
              "      <th>1</th>\n",
              "    </tr>\n",
              "  </thead>\n",
              "  <tbody>\n",
              "    <tr>\n",
              "      <th>0</th>\n",
              "      <td>272</td>\n",
              "      <td>11</td>\n",
              "    </tr>\n",
              "    <tr>\n",
              "      <th>1</th>\n",
              "      <td>13</td>\n",
              "      <td>1</td>\n",
              "    </tr>\n",
              "  </tbody>\n",
              "</table>\n",
              "</div>"
            ],
            "text/plain": [
              "     0   1\n",
              "0  272  11\n",
              "1   13   1"
            ]
          },
          "metadata": {},
          "execution_count": 131
        }
      ]
    },
    {
      "cell_type": "code",
      "metadata": {
        "colab": {
          "base_uri": "https://localhost:8080/",
          "height": 389
        },
        "id": "L3nbF0IPogWD",
        "outputId": "9475ef93-966a-47bb-fd51-7832fbe9675b"
      },
      "source": [
        "#XGBoost\n",
        "#hyper-parameter Tuning\n",
        "\n",
        "#Providing a list of values for some xgboost model parameter\n",
        "params = {\n",
        "    'learning_rate': [0.05, 0.10, 0.15, 0.20, 0.25, 0.30],\n",
        "    'max_depth': [3,5,7,9,11],\n",
        "    'min_child_weight': [1, 2, 3, 5,7, 9],                            \n",
        "    'gamma': [0.0, 0.1, 0.2, 0.3, 0.4],\n",
        "    'colsample_bytree': [0.3, 0.4, 0.5, 0.7],\n",
        "    'n_estimators': [200,400,600,800],\n",
        "    'scale_pos_weight': [1, 5, 10, 20, 25, 50, 75, 100]\n",
        "}\n",
        "\n",
        "\n",
        "model = xgboost.XGBClassifier()                #Defining the model\n",
        "\n",
        "#Defining the Randomized search Cv function with its own parameter and evaluation metrix\n",
        "random_search = RandomizedSearchCV(model, param_distributions = params, n_iter = 30, \n",
        "                                   scoring = 'recall', n_jobs = -1, cv = 5, verbose = 3)\n",
        "\n",
        "random_search.fit(x_train_ind,y_train_ind)             #fitting the random search model\n",
        "\n",
        "random_search.best_estimator_                  #getting the best parameter value for xg boost\n",
        "model_d = random_search.best_estimator_\n",
        "\n",
        "model_d.fit(x_train_ind, y_train_ind)\n",
        "print(f'Accuracy on Train Data: {model_d.score(x_train_ind, y_train_ind)}')\n",
        "print(f'Accuracy on Test Data: {model_d.score(x_test_ind.values, y_test_ind)}')\n",
        "\n",
        "y_pred = model_d.predict(x_test_ind.values)\n",
        "print(classification_report(y_test_ind, y_pred))\n",
        "pd.DataFrame(confusion_matrix(y_test_ind, y_pred))"
      ],
      "execution_count": null,
      "outputs": [
        {
          "output_type": "stream",
          "name": "stdout",
          "text": [
            "Fitting 5 folds for each of 30 candidates, totalling 150 fits\n"
          ]
        },
        {
          "output_type": "stream",
          "name": "stderr",
          "text": [
            "[Parallel(n_jobs=-1)]: Using backend LokyBackend with 2 concurrent workers.\n",
            "[Parallel(n_jobs=-1)]: Done  28 tasks      | elapsed:    4.4s\n",
            "[Parallel(n_jobs=-1)]: Done 124 tasks      | elapsed:   17.9s\n",
            "[Parallel(n_jobs=-1)]: Done 150 out of 150 | elapsed:   20.3s finished\n"
          ]
        },
        {
          "output_type": "stream",
          "name": "stdout",
          "text": [
            "Accuracy on Train Data: 1.0\n",
            "Accuracy on Test Data: 0.972318339100346\n",
            "              precision    recall  f1-score   support\n",
            "\n",
            "           0       0.99      0.99      0.99       285\n",
            "           1       0.00      0.00      0.00         4\n",
            "\n",
            "    accuracy                           0.97       289\n",
            "   macro avg       0.49      0.49      0.49       289\n",
            "weighted avg       0.97      0.97      0.97       289\n",
            "\n"
          ]
        },
        {
          "output_type": "execute_result",
          "data": {
            "text/html": [
              "<div>\n",
              "<style scoped>\n",
              "    .dataframe tbody tr th:only-of-type {\n",
              "        vertical-align: middle;\n",
              "    }\n",
              "\n",
              "    .dataframe tbody tr th {\n",
              "        vertical-align: top;\n",
              "    }\n",
              "\n",
              "    .dataframe thead th {\n",
              "        text-align: right;\n",
              "    }\n",
              "</style>\n",
              "<table border=\"1\" class=\"dataframe\">\n",
              "  <thead>\n",
              "    <tr style=\"text-align: right;\">\n",
              "      <th></th>\n",
              "      <th>0</th>\n",
              "      <th>1</th>\n",
              "    </tr>\n",
              "  </thead>\n",
              "  <tbody>\n",
              "    <tr>\n",
              "      <th>0</th>\n",
              "      <td>281</td>\n",
              "      <td>4</td>\n",
              "    </tr>\n",
              "    <tr>\n",
              "      <th>1</th>\n",
              "      <td>4</td>\n",
              "      <td>0</td>\n",
              "    </tr>\n",
              "  </tbody>\n",
              "</table>\n",
              "</div>"
            ],
            "text/plain": [
              "     0  1\n",
              "0  281  4\n",
              "1    4  0"
            ]
          },
          "metadata": {},
          "execution_count": 100
        }
      ]
    },
    {
      "cell_type": "code",
      "metadata": {
        "colab": {
          "base_uri": "https://localhost:8080/",
          "height": 303
        },
        "id": "kBfrX7mzogNa",
        "outputId": "d8a07ea5-bb41-494e-f5bf-fcc28ef75734"
      },
      "source": [
        "weights = {0:1.0, 1:22}\n",
        "model = SVC(kernel =  'linear',class_weight = 'balanced')\n",
        "model.fit(x_train_ind, y_train_ind)\n",
        "print(f'Accuracy on Train Data: {model.score(x_train_ind, y_train_ind)}')\n",
        "print(f'Accuracy on test Data: {model.score(x_test_ind, y_test_ind)}')\n",
        "y_pred = model.predict(x_test_ind)\n",
        "print(classification_report(y_test_ind, y_pred))\n",
        "pd.DataFrame(confusion_matrix(y_test_ind, y_pred))"
      ],
      "execution_count": null,
      "outputs": [
        {
          "output_type": "stream",
          "name": "stdout",
          "text": [
            "Accuracy on Train Data: 0.8780487804878049\n",
            "Accuracy on test Data: 0.6801346801346801\n",
            "              precision    recall  f1-score   support\n",
            "\n",
            "           0       0.94      0.71      0.81       283\n",
            "           1       0.02      0.14      0.04        14\n",
            "\n",
            "    accuracy                           0.68       297\n",
            "   macro avg       0.48      0.42      0.42       297\n",
            "weighted avg       0.90      0.68      0.77       297\n",
            "\n"
          ]
        },
        {
          "output_type": "execute_result",
          "data": {
            "text/html": [
              "<div>\n",
              "<style scoped>\n",
              "    .dataframe tbody tr th:only-of-type {\n",
              "        vertical-align: middle;\n",
              "    }\n",
              "\n",
              "    .dataframe tbody tr th {\n",
              "        vertical-align: top;\n",
              "    }\n",
              "\n",
              "    .dataframe thead th {\n",
              "        text-align: right;\n",
              "    }\n",
              "</style>\n",
              "<table border=\"1\" class=\"dataframe\">\n",
              "  <thead>\n",
              "    <tr style=\"text-align: right;\">\n",
              "      <th></th>\n",
              "      <th>0</th>\n",
              "      <th>1</th>\n",
              "    </tr>\n",
              "  </thead>\n",
              "  <tbody>\n",
              "    <tr>\n",
              "      <th>0</th>\n",
              "      <td>200</td>\n",
              "      <td>83</td>\n",
              "    </tr>\n",
              "    <tr>\n",
              "      <th>1</th>\n",
              "      <td>12</td>\n",
              "      <td>2</td>\n",
              "    </tr>\n",
              "  </tbody>\n",
              "</table>\n",
              "</div>"
            ],
            "text/plain": [
              "     0   1\n",
              "0  200  83\n",
              "1   12   2"
            ]
          },
          "metadata": {},
          "execution_count": 132
        }
      ]
    },
    {
      "cell_type": "markdown",
      "metadata": {
        "id": "MLeemOBvpCuG"
      },
      "source": [
        "Using PCA"
      ]
    },
    {
      "cell_type": "code",
      "metadata": {
        "colab": {
          "base_uri": "https://localhost:8080/"
        },
        "id": "S365Wl6bphys",
        "outputId": "dba71731-61ff-4b63-d635-9d8df5d6531e"
      },
      "source": [
        "#train = lag(train_df, 1)\n",
        "#test = lag(test_df, 1)\n",
        "col = ['PersonID_masked','Department', 'Level', 'tenure', 'Project_count', 'p2p_value', 'internal_pro_ratio',\n",
        "       'earned_leave', 'sick/personal leave', 'lwp', 'leave_last_3_months', 'reward_gap',\n",
        "       'certi_count', 'certi_gap', 'Status', 'PhysicalLocation']\n",
        "train = train[col].copy()\n",
        "test = test[col].copy()\n",
        "train.info()"
      ],
      "execution_count": null,
      "outputs": [
        {
          "output_type": "stream",
          "name": "stdout",
          "text": [
            "<class 'pandas.core.frame.DataFrame'>\n",
            "Int64Index: 2559 entries, 154 to 1547\n",
            "Data columns (total 16 columns):\n",
            " #   Column               Non-Null Count  Dtype  \n",
            "---  ------               --------------  -----  \n",
            " 0   PersonID_masked      2559 non-null   int64  \n",
            " 1   Department           2559 non-null   object \n",
            " 2   Level                2559 non-null   object \n",
            " 3   tenure               2559 non-null   float64\n",
            " 4   Project_count        2559 non-null   float64\n",
            " 5   p2p_value            2559 non-null   float64\n",
            " 6   internal_pro_ratio   2559 non-null   float64\n",
            " 7   earned_leave         2559 non-null   float64\n",
            " 8   sick/personal leave  2559 non-null   float64\n",
            " 9   lwp                  2559 non-null   float64\n",
            " 10  leave_last_3_months  2559 non-null   float64\n",
            " 11  reward_gap           2559 non-null   float64\n",
            " 12  certi_count          2559 non-null   float64\n",
            " 13  certi_gap            2559 non-null   float64\n",
            " 14  Status               2559 non-null   int64  \n",
            " 15  PhysicalLocation     2559 non-null   object \n",
            "dtypes: float64(11), int64(2), object(3)\n",
            "memory usage: 419.9+ KB\n"
          ]
        }
      ]
    },
    {
      "cell_type": "code",
      "metadata": {
        "id": "12jTOLAYPihk"
      },
      "source": [
        "columns = ['Dep_PPE', 'Dep_Digital Infrastructure', 'Dep_Data Analytics & Engineering ', 'Dep_Customer Experience Solution']\n",
        "train = pd.merge(left=train, left_index=True,\n",
        "                  right=pd.get_dummies(train.Department, prefix='Dep')[columns], right_index=True,\n",
        "                  how='left').copy()\n",
        "\n",
        "test = pd.merge(left=test, left_index=True,\n",
        "                  right=pd.get_dummies(test.Department, prefix='Dep')[columns], right_index=True,\n",
        "                  how='left')\n",
        "\n",
        "\n",
        "train = pd.merge(left=train, left_index=True,\n",
        "                  right=pd.get_dummies(train.Level, prefix='Level'), right_index=True,\n",
        "                  how='left').copy()\n",
        "\n",
        "test = pd.merge(left=test, left_index=True,\n",
        "                  right=pd.get_dummies(test.Level, prefix='Level'), right_index=True,\n",
        "                  how='left')\n",
        "\n",
        "\n",
        "train['Status'] = encode.fit_transform(train['Status'])\n",
        "test['Status'] = encode.fit_transform(test['Status'])\n",
        "\n",
        "\n",
        "columns = ['Project_count', 'earned_leave', 'sick/personal leave', 'lwp']\n",
        "for col in columns:\n",
        "    m = train[col].mean()\n",
        "    train[col].fillna(value = m, inplace = True)\n",
        "    m = test[col].mean()\n",
        "    test[col].fillna(value = m, inplace = True)\n",
        "test.fillna(value = 0, inplace = True)\n",
        "train.fillna(value = 0, inplace = True)\n",
        "\n",
        "train_ind = train[train['PhysicalLocation'] == 'India'].copy()\n",
        "train_usa = train[train['PhysicalLocation'] == 'USA']\n",
        "test_ind = test[test['PhysicalLocation'] == 'India'].copy()\n",
        "test_usa = test[test['PhysicalLocation'] == 'USA']"
      ],
      "execution_count": null,
      "outputs": []
    },
    {
      "cell_type": "code",
      "metadata": {
        "id": "fIHWXPMGpioc"
      },
      "source": [
        "lvl = {'6A': 6.5,\n",
        "       'CW': 6.5,\n",
        "       '6B': 6.5}\n",
        "train.replace(lvl, inplace = True)\n",
        "test.replace(lvl, inplace = True)\n",
        "train['Level'] = train['Level'].apply(lambda x: float(x))\n",
        "test['Level'] = test['Level'].apply(lambda x: float(x))\n",
        "\n",
        "columns =  ['Status', 'Department']\n",
        "encode = LabelEncoder()\n",
        "for col in columns:\n",
        "  i = train.columns.get_loc(col)\n",
        "  train.iloc[:,i] = train.apply(lambda i:encode.fit_transform(i.astype(str)), axis=0, result_type='expand')\n",
        "  i = test.columns.get_loc(col)\n",
        "  test.iloc[:,i] = test.apply(lambda i:encode.fit_transform(i.astype(str)), axis=0, result_type='expand')\n",
        "#    train[col] = encode.fit_transform(train[col])\n",
        "#    test[col] = encode.fit_transform(test[col])\n",
        "\n",
        "\n",
        "\n",
        "\n",
        "columns = ['Project_count', 'earned_leave', 'sick/personal leave', 'lwp']\n",
        "for col in columns:\n",
        "    m = train[col].mean()\n",
        "    train[col].fillna(value = m, inplace = True)\n",
        "    m = test[col].mean()\n",
        "    test[col].fillna(value = m, inplace = True)\n",
        "test.fillna(value = 0, inplace = True)\n",
        "train.fillna(value = 0, inplace = True)\n",
        "\n",
        "train_ind = train[train['PhysicalLocation'] == 'India'].copy()\n",
        "train_usa = train[train['PhysicalLocation'] == 'USA']\n",
        "test_ind = test[test['PhysicalLocation'] == 'India'].copy()\n",
        "test_usa = test[test['PhysicalLocation'] == 'USA']"
      ],
      "execution_count": null,
      "outputs": []
    },
    {
      "cell_type": "code",
      "metadata": {
        "id": "PYfvpe0dpw2x"
      },
      "source": [
        "col = ['tenure', 'Project_count', 'p2p_value', 'internal_pro_ratio',\n",
        "       'earned_leave', 'sick/personal leave', 'lwp', 'leave_last_3_months', 'reward_gap',\n",
        "       'certi_count', 'certi_gap',  'Dep_PPE', 'Dep_Digital Infrastructure', 'Dep_Data Analytics & Engineering ',\n",
        "       'Dep_Customer Experience Solution', 'Level_5', 'Level_6', 'Level_6A', 'Level_7', 'Level_8']\n",
        "x_train_ind = train_ind[col]\n",
        "y_train_ind = train_ind['Status']\n",
        "x_test_ind = test_ind[col]\n",
        "y_test_ind = test_ind['Status']\n",
        "x_train_usa = train_usa[col]\n",
        "y_train_usa = train_usa['Status']\n",
        "x_test_usa = test_usa[col]\n",
        "y_test_usa = test_usa['Status']"
      ],
      "execution_count": null,
      "outputs": []
    },
    {
      "cell_type": "code",
      "metadata": {
        "colab": {
          "base_uri": "https://localhost:8080/"
        },
        "id": "l-0GGQESQG0C",
        "outputId": "bacca67d-6b1f-4f22-f371-6d3f050b69f7"
      },
      "source": [
        "oversample = RandomOverSampler(sampling_strategy='minority')\n",
        "x_train_ind, y_train_ind = oversample.fit_resample(x_train_ind, y_train_ind)"
      ],
      "execution_count": null,
      "outputs": [
        {
          "output_type": "stream",
          "name": "stderr",
          "text": [
            "/usr/local/lib/python3.7/dist-packages/sklearn/utils/deprecation.py:87: FutureWarning: Function safe_indexing is deprecated; safe_indexing is deprecated in version 0.22 and will be removed in version 0.24.\n",
            "  warnings.warn(msg, category=FutureWarning)\n"
          ]
        }
      ]
    },
    {
      "cell_type": "code",
      "metadata": {
        "colab": {
          "base_uri": "https://localhost:8080/",
          "height": 404
        },
        "id": "NTXaIzQfogEp",
        "outputId": "40fd764b-d4ea-4540-eb75-66ad98496b5c"
      },
      "source": [
        "svd = PCA().fit(x_train_ind)\n",
        "#svd = TruncatedSVD(n_components=3)\n",
        "% matplotlib inline\n",
        "import matplotlib.pyplot as plt\n",
        "plt.rcParams[\"figure.figsize\"] = (12,6)\n",
        "\n",
        "fig, ax = plt.subplots()\n",
        "xi = np.arange(1, 21, step=1)\n",
        "y = np.cumsum(svd.explained_variance_ratio_)\n",
        "\n",
        "plt.ylim(0.0,1.1)\n",
        "plt.plot(xi, y, marker='o', linestyle='--', color='b')\n",
        "\n",
        "plt.xlabel('Number of Components')\n",
        "plt.xticks(np.arange(0, 11, step=1)) #change from 0-based array index to 1-based human-readable label\n",
        "plt.ylabel('Cumulative variance (%)')\n",
        "plt.title('The number of components needed to explain variance')\n",
        "\n",
        "plt.axhline(y=0.95, color='r', linestyle='-')\n",
        "plt.text(0.5, 0.85, '95% cut-off threshold', color = 'red', fontsize=16)\n",
        "\n",
        "ax.grid(axis='x')\n",
        "plt.show()"
      ],
      "execution_count": null,
      "outputs": [
        {
          "output_type": "display_data",
          "data": {
            "image/png": "[encoded data removed]",
            "text/plain": [
              "<Figure size 864x432 with 1 Axes>"
            ]
          },
          "metadata": {
            "needs_background": "light"
          }
        }
      ]
    },
    {
      "cell_type": "code",
      "metadata": {
        "id": "ogsxlW4aof4-"
      },
      "source": [
        "scaler = MinMaxScaler()\n",
        "x_train_ind = scaler.fit_transform(x_train_ind)\n",
        "x_test_ind = scaler.fit_transform(x_test_ind)\n",
        "pca = PCA(n_components=4)\n",
        "pca.fit(x_train_ind)\n",
        "x_train_ind_pca = pca.transform(x_train_ind)\n",
        "pca.fit(x_test_ind)\n",
        "x_test_ind_pca = pca.transform(x_test_ind)"
      ],
      "execution_count": null,
      "outputs": []
    },
    {
      "cell_type": "code",
      "metadata": {
        "colab": {
          "base_uri": "https://localhost:8080/",
          "height": 303
        },
        "id": "ZXRaMh5pqOhT",
        "outputId": "15de5cfc-3770-4f01-e783-2c25e519166a"
      },
      "source": [
        "#Building a naive Decision tree model with its deault value\n",
        "\n",
        "clf_d = DecisionTreeClassifier()\n",
        "clf_d.fit(x_train_ind_pca, y_train_ind)\n",
        "print(f'Accuracy on Train Data : {clf_d.score(x_train_ind_pca, y_train_ind)}')\n",
        "print(f'Accuracy on Test Data: {clf_d.score(x_test_ind_pca, y_test_ind)}')\n",
        "y_pred = clf_d.predict(x_test_ind_pca)\n",
        "print(classification_report(y_test_ind, y_pred))\n",
        "pd.DataFrame(confusion_matrix(y_test_ind, y_pred))"
      ],
      "execution_count": null,
      "outputs": [
        {
          "output_type": "stream",
          "name": "stdout",
          "text": [
            "Accuracy on Train Data : 0.9911214953271028\n",
            "Accuracy on Test Data: 0.9671623296158612\n",
            "              precision    recall  f1-score   support\n",
            "\n",
            "           0       0.98      0.99      0.98      1579\n",
            "           1       0.00      0.00      0.00        35\n",
            "\n",
            "    accuracy                           0.97      1614\n",
            "   macro avg       0.49      0.49      0.49      1614\n",
            "weighted avg       0.96      0.97      0.96      1614\n",
            "\n"
          ]
        },
        {
          "output_type": "execute_result",
          "data": {
            "text/html": [
              "<div>\n",
              "<style scoped>\n",
              "    .dataframe tbody tr th:only-of-type {\n",
              "        vertical-align: middle;\n",
              "    }\n",
              "\n",
              "    .dataframe tbody tr th {\n",
              "        vertical-align: top;\n",
              "    }\n",
              "\n",
              "    .dataframe thead th {\n",
              "        text-align: right;\n",
              "    }\n",
              "</style>\n",
              "<table border=\"1\" class=\"dataframe\">\n",
              "  <thead>\n",
              "    <tr style=\"text-align: right;\">\n",
              "      <th></th>\n",
              "      <th>0</th>\n",
              "      <th>1</th>\n",
              "    </tr>\n",
              "  </thead>\n",
              "  <tbody>\n",
              "    <tr>\n",
              "      <th>0</th>\n",
              "      <td>1561</td>\n",
              "      <td>18</td>\n",
              "    </tr>\n",
              "    <tr>\n",
              "      <th>1</th>\n",
              "      <td>35</td>\n",
              "      <td>0</td>\n",
              "    </tr>\n",
              "  </tbody>\n",
              "</table>\n",
              "</div>"
            ],
            "text/plain": [
              "      0   1\n",
              "0  1561  18\n",
              "1    35   0"
            ]
          },
          "metadata": {},
          "execution_count": 49
        }
      ]
    },
    {
      "cell_type": "code",
      "metadata": {
        "colab": {
          "base_uri": "https://localhost:8080/",
          "height": 303
        },
        "id": "R5Q5Bk1vqOYm",
        "outputId": "a113af05-e722-454c-d9c5-5ed91bc54d7f"
      },
      "source": [
        "model_d = xgboost.XGBClassifier()\n",
        "model_d.fit(x_train_ind_pca, y_train_ind)\n",
        "print(f'Accuracy on Train Data: {model_d.score(x_train_ind_pca, y_train_ind)}')\n",
        "print(f'Accuracy on Test Data: {model_d.score(x_test_ind_pca, y_test_ind)}')\n",
        "y_pred = model_d.predict(x_test_ind_pca)\n",
        "print(classification_report(y_test_ind, y_pred))\n",
        "pd.DataFrame(confusion_matrix(y_test_ind, y_pred))"
      ],
      "execution_count": null,
      "outputs": [
        {
          "output_type": "stream",
          "name": "stdout",
          "text": [
            "Accuracy on Train Data: 0.9567757009345794\n",
            "Accuracy on Test Data: 0.7955390334572491\n",
            "              precision    recall  f1-score   support\n",
            "\n",
            "           0       0.98      0.81      0.89      1579\n",
            "           1       0.02      0.20      0.04        35\n",
            "\n",
            "    accuracy                           0.80      1614\n",
            "   macro avg       0.50      0.50      0.46      1614\n",
            "weighted avg       0.96      0.80      0.87      1614\n",
            "\n"
          ]
        },
        {
          "output_type": "execute_result",
          "data": {
            "text/html": [
              "<div>\n",
              "<style scoped>\n",
              "    .dataframe tbody tr th:only-of-type {\n",
              "        vertical-align: middle;\n",
              "    }\n",
              "\n",
              "    .dataframe tbody tr th {\n",
              "        vertical-align: top;\n",
              "    }\n",
              "\n",
              "    .dataframe thead th {\n",
              "        text-align: right;\n",
              "    }\n",
              "</style>\n",
              "<table border=\"1\" class=\"dataframe\">\n",
              "  <thead>\n",
              "    <tr style=\"text-align: right;\">\n",
              "      <th></th>\n",
              "      <th>0</th>\n",
              "      <th>1</th>\n",
              "    </tr>\n",
              "  </thead>\n",
              "  <tbody>\n",
              "    <tr>\n",
              "      <th>0</th>\n",
              "      <td>1277</td>\n",
              "      <td>302</td>\n",
              "    </tr>\n",
              "    <tr>\n",
              "      <th>1</th>\n",
              "      <td>28</td>\n",
              "      <td>7</td>\n",
              "    </tr>\n",
              "  </tbody>\n",
              "</table>\n",
              "</div>"
            ],
            "text/plain": [
              "      0    1\n",
              "0  1277  302\n",
              "1    28    7"
            ]
          },
          "metadata": {},
          "execution_count": 50
        }
      ]
    },
    {
      "cell_type": "code",
      "metadata": {
        "colab": {
          "base_uri": "https://localhost:8080/",
          "height": 389
        },
        "id": "Koc3V7mrqOQX",
        "outputId": "caf27c3c-493d-4ef3-f3bc-ea7c075b8880"
      },
      "source": [
        "#XGBoost\n",
        "#hyper-parameter Tuning\n",
        "\n",
        "#Providing a list of values for some xgboost model parameter\n",
        "params = {\n",
        "    'learning_rate': [0.05, 0.10, 0.15, 0.20, 0.25, 0.30],\n",
        "    'max_depth': [11, 13, 15, 17, 19],\n",
        "    'min_child_weight': [1, 2, 3, 5,7, 9],                            \n",
        "    'gamma': [0.0, 0.1, 0.2, 0.3, 0.4],\n",
        "    'colsample_bytree': [0.3, 0.4, 0.5, 0.7],\n",
        "    'n_estimators': [200,400,600,800],\n",
        "    'scale_pos_weight': [1, 5, 10, 20, 25, 50, 75, 100]\n",
        "}\n",
        "\n",
        "\n",
        "model = xgboost.XGBClassifier()                #Defining the model\n",
        "\n",
        "#Defining the Randomized search Cv function with its own parameter and evaluation metrix\n",
        "random_search = RandomizedSearchCV(model, param_distributions = params, n_iter = 30, \n",
        "                                   scoring = 'recall', n_jobs = -1, cv = 5, verbose = 3)\n",
        "\n",
        "random_search.fit(x_train_ind_pca,y_train_ind)             #fitting the random search model\n",
        "\n",
        "random_search.best_estimator_                  #getting the best parameter value for xg boost\n",
        "model_d = random_search.best_estimator_\n",
        "\n",
        "model_d.fit(x_train_ind_pca, y_train_ind)\n",
        "print(f'Accuracy on Train Data: {model_d.score(x_train_ind_pca, y_train_ind)}')\n",
        "print(f'Accuracy on Test Data: {model_d.score(x_test_ind_pca, y_test_ind)}')\n",
        "\n",
        "y_pred = model_d.predict(x_test_ind_pca)\n",
        "print(classification_report(y_test_ind, y_pred))\n",
        "pd.DataFrame(confusion_matrix(y_test_ind, y_pred))"
      ],
      "execution_count": null,
      "outputs": [
        {
          "output_type": "stream",
          "name": "stdout",
          "text": [
            "Fitting 5 folds for each of 30 candidates, totalling 150 fits\n"
          ]
        },
        {
          "output_type": "stream",
          "name": "stderr",
          "text": [
            "[Parallel(n_jobs=-1)]: Using backend LokyBackend with 2 concurrent workers.\n",
            "[Parallel(n_jobs=-1)]: Done  28 tasks      | elapsed:   23.5s\n",
            "[Parallel(n_jobs=-1)]: Done 124 tasks      | elapsed:  1.7min\n",
            "[Parallel(n_jobs=-1)]: Done 150 out of 150 | elapsed:  2.1min finished\n"
          ]
        },
        {
          "output_type": "stream",
          "name": "stdout",
          "text": [
            "Accuracy on Train Data: 0.9901869158878505\n",
            "Accuracy on Test Data: 0.9405204460966543\n",
            "              precision    recall  f1-score   support\n",
            "\n",
            "           0       0.98      0.96      0.97      1579\n",
            "           1       0.00      0.00      0.00        35\n",
            "\n",
            "    accuracy                           0.94      1614\n",
            "   macro avg       0.49      0.48      0.48      1614\n",
            "weighted avg       0.96      0.94      0.95      1614\n",
            "\n"
          ]
        },
        {
          "output_type": "execute_result",
          "data": {
            "text/html": [
              "<div>\n",
              "<style scoped>\n",
              "    .dataframe tbody tr th:only-of-type {\n",
              "        vertical-align: middle;\n",
              "    }\n",
              "\n",
              "    .dataframe tbody tr th {\n",
              "        vertical-align: top;\n",
              "    }\n",
              "\n",
              "    .dataframe thead th {\n",
              "        text-align: right;\n",
              "    }\n",
              "</style>\n",
              "<table border=\"1\" class=\"dataframe\">\n",
              "  <thead>\n",
              "    <tr style=\"text-align: right;\">\n",
              "      <th></th>\n",
              "      <th>0</th>\n",
              "      <th>1</th>\n",
              "    </tr>\n",
              "  </thead>\n",
              "  <tbody>\n",
              "    <tr>\n",
              "      <th>0</th>\n",
              "      <td>1518</td>\n",
              "      <td>61</td>\n",
              "    </tr>\n",
              "    <tr>\n",
              "      <th>1</th>\n",
              "      <td>35</td>\n",
              "      <td>0</td>\n",
              "    </tr>\n",
              "  </tbody>\n",
              "</table>\n",
              "</div>"
            ],
            "text/plain": [
              "      0   1\n",
              "0  1518  61\n",
              "1    35   0"
            ]
          },
          "metadata": {},
          "execution_count": 52
        }
      ]
    },
    {
      "cell_type": "code",
      "metadata": {
        "colab": {
          "base_uri": "https://localhost:8080/",
          "height": 357
        },
        "id": "c0fBgs_LqOH9",
        "outputId": "ea2daabc-807f-4f5c-9a78-1b5923b329ec"
      },
      "source": [
        "weights = {0:1.0, 1:22}\n",
        "model = SVC(kernel =  'linear',class_weight = weights)\n",
        "model.fit(x_train_ind_pca, y_train_ind)\n",
        "print(f'Accuracy on Train Data: {model.score(x_train_ind_pca, y_train_ind)}')\n",
        "print(f'Accuracy on test Data: {model.score(x_test_ind_pca, y_test_ind)}')\n",
        "y_pred = model.predict(x_test_ind_pca)\n",
        "print(classification_report(y_test_ind, y_pred))\n",
        "pd.DataFrame(confusion_matrix(y_test_ind, y_pred))"
      ],
      "execution_count": null,
      "outputs": [
        {
          "output_type": "stream",
          "name": "stdout",
          "text": [
            "Accuracy on Train Data: 0.9852045256744996\n",
            "Accuracy on test Data: 0.983843537414966\n",
            "              precision    recall  f1-score   support\n",
            "\n",
            "           0       0.98      1.00      0.99      1157\n",
            "           1       0.00      0.00      0.00        19\n",
            "\n",
            "    accuracy                           0.98      1176\n",
            "   macro avg       0.49      0.50      0.50      1176\n",
            "weighted avg       0.97      0.98      0.98      1176\n",
            "\n"
          ]
        },
        {
          "output_type": "stream",
          "name": "stderr",
          "text": [
            "/usr/local/lib/python3.7/dist-packages/sklearn/metrics/_classification.py:1272: UndefinedMetricWarning: Precision and F-score are ill-defined and being set to 0.0 in labels with no predicted samples. Use `zero_division` parameter to control this behavior.\n",
            "  _warn_prf(average, modifier, msg_start, len(result))\n"
          ]
        },
        {
          "output_type": "execute_result",
          "data": {
            "text/html": [
              "<div>\n",
              "<style scoped>\n",
              "    .dataframe tbody tr th:only-of-type {\n",
              "        vertical-align: middle;\n",
              "    }\n",
              "\n",
              "    .dataframe tbody tr th {\n",
              "        vertical-align: top;\n",
              "    }\n",
              "\n",
              "    .dataframe thead th {\n",
              "        text-align: right;\n",
              "    }\n",
              "</style>\n",
              "<table border=\"1\" class=\"dataframe\">\n",
              "  <thead>\n",
              "    <tr style=\"text-align: right;\">\n",
              "      <th></th>\n",
              "      <th>0</th>\n",
              "      <th>1</th>\n",
              "    </tr>\n",
              "  </thead>\n",
              "  <tbody>\n",
              "    <tr>\n",
              "      <th>0</th>\n",
              "      <td>1157</td>\n",
              "      <td>0</td>\n",
              "    </tr>\n",
              "    <tr>\n",
              "      <th>1</th>\n",
              "      <td>19</td>\n",
              "      <td>0</td>\n",
              "    </tr>\n",
              "  </tbody>\n",
              "</table>\n",
              "</div>"
            ],
            "text/plain": [
              "      0  1\n",
              "0  1157  0\n",
              "1    19  0"
            ]
          },
          "metadata": {},
          "execution_count": 81
        }
      ]
    },
    {
      "cell_type": "code",
      "metadata": {
        "id": "tmrw-PRArVhM"
      },
      "source": [
        ""
      ],
      "execution_count": null,
      "outputs": []
    },
    {
      "cell_type": "code",
      "metadata": {
        "id": "xcKGnYLhrVZW"
      },
      "source": [
        ""
      ],
      "execution_count": null,
      "outputs": []
    },
    {
      "cell_type": "code",
      "metadata": {
        "id": "J5TFcmrGrVQp"
      },
      "source": [
        ""
      ],
      "execution_count": null,
      "outputs": []
    },
    {
      "cell_type": "code",
      "metadata": {
        "id": "XnXHoMPzfZQJ",
        "colab": {
          "base_uri": "https://localhost:8080/",
          "height": 105
        },
        "outputId": "ec3bad13-70b3-4f3c-d218-11bae4f41b0c"
      },
      "source": [
        "'''exit = pd.read_excel('/content/drive/MyDrive/ATTRITION_DATA/Exit_Reasons_Masked.xlsx')\n",
        "exit['PersonID_masked'] = exit['PersonID_Masked']\n",
        "exit.drop(['PersonID_Masked'], axis = 1, inplace = True)\n",
        "train = train.merge(exit, on = 'PersonID_masked', how = 'left').copy()\n",
        "test = test.merge(exit, on = 'PersonID_masked', how = 'left').copy()\n",
        "ind = train[train['Termination Category'] == 'Involuntary'].index\n",
        "train.drop(ind, inplace = True)\n",
        "ind = test[test['Termination Category'] == 'Involuntary'].index\n",
        "test.drop(ind, inplace = True)'''"
      ],
      "execution_count": null,
      "outputs": [
        {
          "output_type": "execute_result",
          "data": {
            "application/vnd.google.colaboratory.intrinsic+json": {
              "type": "string"
            },
            "text/plain": [
              "\"exit = pd.read_excel('/content/drive/MyDrive/ATTRITION_DATA/Exit_Reasons_Masked.xlsx')\\nexit['PersonID_masked'] = exit['PersonID_Masked']\\nexit.drop(['PersonID_Masked'], axis = 1, inplace = True)\\ntrain = train.merge(exit, on = 'PersonID_masked', how = 'left').copy()\\ntest = test.merge(exit, on = 'PersonID_masked', how = 'left').copy()\\nind = train[train['Termination Category'] == 'Involuntary'].index\\ntrain.drop(ind, inplace = True)\\nind = test[test['Termination Category'] == 'Involuntary'].index\\ntest.drop(ind, inplace = True)\""
            ]
          },
          "metadata": {},
          "execution_count": 13
        }
      ]
    },
    {
      "cell_type": "code",
      "metadata": {
        "id": "DrchzP6EJtyx"
      },
      "source": [
        "from sklearn.decomposition import TruncatedSVD\n",
        "from sklearn.decomposition import PCA\n",
        "from sklearn.preprocessing import MinMaxScaler"
      ],
      "execution_count": null,
      "outputs": []
    },
    {
      "cell_type": "code",
      "metadata": {
        "colab": {
          "base_uri": "https://localhost:8080/",
          "height": 243
        },
        "id": "R0C2k4ZxZ_eA",
        "outputId": "37111db4-2815-4d21-8f36-6d115bd95d7e"
      },
      "source": [
        "x_train_ind.head()"
      ],
      "execution_count": null,
      "outputs": [
        {
          "output_type": "execute_result",
          "data": {
            "text/html": [
              "<div>\n",
              "<style scoped>\n",
              "    .dataframe tbody tr th:only-of-type {\n",
              "        vertical-align: middle;\n",
              "    }\n",
              "\n",
              "    .dataframe tbody tr th {\n",
              "        vertical-align: top;\n",
              "    }\n",
              "\n",
              "    .dataframe thead th {\n",
              "        text-align: right;\n",
              "    }\n",
              "</style>\n",
              "<table border=\"1\" class=\"dataframe\">\n",
              "  <thead>\n",
              "    <tr style=\"text-align: right;\">\n",
              "      <th></th>\n",
              "      <th>Department</th>\n",
              "      <th>Level</th>\n",
              "      <th>tenure</th>\n",
              "      <th>Project_count</th>\n",
              "      <th>p2p_value</th>\n",
              "      <th>internal_pro_ratio</th>\n",
              "      <th>earned_leave</th>\n",
              "      <th>sick/personal leave</th>\n",
              "      <th>lwp</th>\n",
              "      <th>leave_last_3_months</th>\n",
              "      <th>reward_gap</th>\n",
              "      <th>certi_count</th>\n",
              "      <th>certi_gap</th>\n",
              "    </tr>\n",
              "  </thead>\n",
              "  <tbody>\n",
              "    <tr>\n",
              "      <th>2</th>\n",
              "      <td>21</td>\n",
              "      <td>6.0</td>\n",
              "      <td>18.966667</td>\n",
              "      <td>3.0</td>\n",
              "      <td>0.2</td>\n",
              "      <td>0.666667</td>\n",
              "      <td>7.000000</td>\n",
              "      <td>24.000000</td>\n",
              "      <td>0.000000</td>\n",
              "      <td>2.0</td>\n",
              "      <td>7.433333</td>\n",
              "      <td>0.0</td>\n",
              "      <td>0.0</td>\n",
              "    </tr>\n",
              "    <tr>\n",
              "      <th>3</th>\n",
              "      <td>21</td>\n",
              "      <td>6.0</td>\n",
              "      <td>18.966667</td>\n",
              "      <td>3.0</td>\n",
              "      <td>0.2</td>\n",
              "      <td>0.666667</td>\n",
              "      <td>7.000000</td>\n",
              "      <td>24.000000</td>\n",
              "      <td>0.000000</td>\n",
              "      <td>2.0</td>\n",
              "      <td>7.433333</td>\n",
              "      <td>0.0</td>\n",
              "      <td>0.0</td>\n",
              "    </tr>\n",
              "    <tr>\n",
              "      <th>6</th>\n",
              "      <td>21</td>\n",
              "      <td>7.0</td>\n",
              "      <td>1.000000</td>\n",
              "      <td>1.0</td>\n",
              "      <td>0.2</td>\n",
              "      <td>0.000000</td>\n",
              "      <td>4.737653</td>\n",
              "      <td>34.926206</td>\n",
              "      <td>0.466589</td>\n",
              "      <td>0.0</td>\n",
              "      <td>0.000000</td>\n",
              "      <td>0.0</td>\n",
              "      <td>0.0</td>\n",
              "    </tr>\n",
              "    <tr>\n",
              "      <th>7</th>\n",
              "      <td>21</td>\n",
              "      <td>7.0</td>\n",
              "      <td>1.000000</td>\n",
              "      <td>1.0</td>\n",
              "      <td>0.2</td>\n",
              "      <td>0.000000</td>\n",
              "      <td>4.737653</td>\n",
              "      <td>34.926206</td>\n",
              "      <td>0.466589</td>\n",
              "      <td>0.0</td>\n",
              "      <td>0.000000</td>\n",
              "      <td>0.0</td>\n",
              "      <td>0.0</td>\n",
              "    </tr>\n",
              "    <tr>\n",
              "      <th>8</th>\n",
              "      <td>12</td>\n",
              "      <td>8.0</td>\n",
              "      <td>63.533333</td>\n",
              "      <td>4.0</td>\n",
              "      <td>0.4</td>\n",
              "      <td>0.333333</td>\n",
              "      <td>8.000000</td>\n",
              "      <td>16.000000</td>\n",
              "      <td>11.000000</td>\n",
              "      <td>0.0</td>\n",
              "      <td>32.233333</td>\n",
              "      <td>0.0</td>\n",
              "      <td>0.0</td>\n",
              "    </tr>\n",
              "  </tbody>\n",
              "</table>\n",
              "</div>"
            ],
            "text/plain": [
              "   Department  Level     tenure  ...  reward_gap  certi_count  certi_gap\n",
              "2          21    6.0  18.966667  ...    7.433333          0.0        0.0\n",
              "3          21    6.0  18.966667  ...    7.433333          0.0        0.0\n",
              "6          21    7.0   1.000000  ...    0.000000          0.0        0.0\n",
              "7          21    7.0   1.000000  ...    0.000000          0.0        0.0\n",
              "8          12    8.0  63.533333  ...   32.233333          0.0        0.0\n",
              "\n",
              "[5 rows x 13 columns]"
            ]
          },
          "metadata": {},
          "execution_count": 53
        }
      ]
    },
    {
      "cell_type": "code",
      "metadata": {
        "colab": {
          "base_uri": "https://localhost:8080/"
        },
        "id": "FT3WU1bjaN3p",
        "outputId": "7f7b6dca-0eb4-469c-8962-683818009e14"
      },
      "source": [
        "y"
      ],
      "execution_count": null,
      "outputs": [
        {
          "output_type": "execute_result",
          "data": {
            "text/plain": [
              "array([0.66543695, 0.92489283, 0.94823508, 0.9678855 , 0.97964866,\n",
              "       0.99066238, 0.99742392, 0.99912162, 0.99952771, 0.99974164,\n",
              "       0.99994212, 0.99997579, 1.        ])"
            ]
          },
          "metadata": {},
          "execution_count": 48
        }
      ]
    },
    {
      "cell_type": "code",
      "metadata": {
        "colab": {
          "base_uri": "https://localhost:8080/",
          "height": 404
        },
        "id": "ytsd8hKOY9wy",
        "outputId": "7e68625f-35b7-4936-ce7b-ce53fa701268"
      },
      "source": [
        "svd = PCA().fit(x_train_ind)\n",
        "\n",
        "% matplotlib inline\n",
        "import matplotlib.pyplot as plt\n",
        "plt.rcParams[\"figure.figsize\"] = (12,6)\n",
        "\n",
        "fig, ax = plt.subplots()\n",
        "xi = np.arange(1, 14, step=1)\n",
        "y = np.cumsum(svd.explained_variance_ratio_)\n",
        "\n",
        "plt.ylim(0.0,1.1)\n",
        "plt.plot(xi, y, marker='o', linestyle='--', color='b')\n",
        "\n",
        "plt.xlabel('Number of Components')\n",
        "plt.xticks(np.arange(0, 11, step=1)) #change from 0-based array index to 1-based human-readable label\n",
        "plt.ylabel('Cumulative variance (%)')\n",
        "plt.title('The number of components needed to explain variance')\n",
        "\n",
        "plt.axhline(y=0.95, color='r', linestyle='-')\n",
        "plt.text(0.5, 0.85, '95% cut-off threshold', color = 'red', fontsize=16)\n",
        "\n",
        "ax.grid(axis='x')\n",
        "plt.show()"
      ],
      "execution_count": null,
      "outputs": [
        {
          "output_type": "display_data",
          "data": {
            "image/png": "[encoded data removed]",
            "text/plain": [
              "<Figure size 864x432 with 1 Axes>"
            ]
          },
          "metadata": {
            "needs_background": "light"
          }
        }
      ]
    },
    {
      "cell_type": "code",
      "metadata": {
        "colab": {
          "base_uri": "https://localhost:8080/"
        },
        "id": "TX205XIiJ1mA",
        "outputId": "559a6cb0-863a-449a-b707-53a870b77f0c"
      },
      "source": [
        "scaler = MinMaxScaler()\n",
        "x_train_ind = scaler.fit_transform(x_train_ind)\n",
        "svd = TruncatedSVD(n_components=3)\n",
        "svd.fit(x_train_ind)\n",
        "pca = PCA(n_components=3)\n",
        "pca.fit(x_train_ind)"
      ],
      "execution_count": null,
      "outputs": [
        {
          "output_type": "execute_result",
          "data": {
            "text/plain": [
              "PCA(copy=True, iterated_power='auto', n_components=3, random_state=None,\n",
              "    svd_solver='auto', tol=0.0, whiten=False)"
            ]
          },
          "metadata": {},
          "execution_count": 201
        }
      ]
    },
    {
      "cell_type": "code",
      "metadata": {
        "id": "FforHmcaKBKd"
      },
      "source": [
        "x_train_ind_svd = svd.transform(x_train_ind)\n",
        "x_test_ind_svd = svd.transform(x_test_ind)"
      ],
      "execution_count": null,
      "outputs": []
    },
    {
      "cell_type": "code",
      "metadata": {
        "id": "PRhiFY_JKNfr"
      },
      "source": [
        "x_train_ind_pca = pca.transform(x_train_ind)\n",
        "x_test_ind_pca = pca.transform(x_test_ind)"
      ],
      "execution_count": null,
      "outputs": []
    },
    {
      "cell_type": "code",
      "metadata": {
        "colab": {
          "base_uri": "https://localhost:8080/",
          "height": 87
        },
        "id": "g0mmjHTUf_c3",
        "outputId": "78801780-8ff1-46a9-f603-5f8ac274f678"
      },
      "source": [
        "'''x_train_ind['compa_Ratio'].replace({9999: 100}, inplace = True)\n",
        "x_train_ind['performance'].replace({9999: 0}, inplace = True)\n",
        "x_test_ind['compa_Ratio'].replace({9999: 100}, inplace = True)\n",
        "x_test_ind['performance'].replace({9999: 0}, inplace = True)\n",
        "x_train_usa['compa_Ratio'].replace({9999: 100}, inplace = True)\n",
        "x_train_usa['performance'].replace({9999: 0}, inplace = True)\n",
        "x_test_usa['compa_Ratio'].replace({9999: 100}, inplace = True)\n",
        "x_test_usa['performance'].replace({9999: 0}, inplace = True)'''"
      ],
      "execution_count": null,
      "outputs": [
        {
          "output_type": "execute_result",
          "data": {
            "application/vnd.google.colaboratory.intrinsic+json": {
              "type": "string"
            },
            "text/plain": [
              "\"x_train_ind['compa_Ratio'].replace({9999: 100}, inplace = True)\\nx_train_ind['performance'].replace({9999: 0}, inplace = True)\\nx_test_ind['compa_Ratio'].replace({9999: 100}, inplace = True)\\nx_test_ind['performance'].replace({9999: 0}, inplace = True)\\nx_train_usa['compa_Ratio'].replace({9999: 100}, inplace = True)\\nx_train_usa['performance'].replace({9999: 0}, inplace = True)\\nx_test_usa['compa_Ratio'].replace({9999: 100}, inplace = True)\\nx_test_usa['performance'].replace({9999: 0}, inplace = True)\""
            ]
          },
          "metadata": {},
          "execution_count": 34
        }
      ]
    },
    {
      "cell_type": "code",
      "metadata": {
        "colab": {
          "base_uri": "https://localhost:8080/",
          "height": 70
        },
        "id": "_mUiBe-sgBTe",
        "outputId": "36ad787a-99d9-4fbd-9e7c-c2351906bccb"
      },
      "source": [
        "'''x_train_ind['compa_Ratio'] = x_train_ind['compa_Ratio'].apply(lambda x: x/100)\n",
        "x_test_ind['compa_Ratio'] = x_test_ind['compa_Ratio'].apply(lambda x: x/100)\n",
        "x_train_usa['compa_Ratio'] = x_train_usa['compa_Ratio'].apply(lambda x: x/100)\n",
        "x_test_usa['compa_Ratio'] = x_test_usa['compa_Ratio'].apply(lambda x: x/100)'''"
      ],
      "execution_count": null,
      "outputs": [
        {
          "output_type": "execute_result",
          "data": {
            "application/vnd.google.colaboratory.intrinsic+json": {
              "type": "string"
            },
            "text/plain": [
              "\"x_train_ind['compa_Ratio'] = x_train_ind['compa_Ratio'].apply(lambda x: x/100)\\nx_test_ind['compa_Ratio'] = x_test_ind['compa_Ratio'].apply(lambda x: x/100)\\nx_train_usa['compa_Ratio'] = x_train_usa['compa_Ratio'].apply(lambda x: x/100)\\nx_test_usa['compa_Ratio'] = x_test_usa['compa_Ratio'].apply(lambda x: x/100)\""
            ]
          },
          "metadata": {},
          "execution_count": 35
        }
      ]
    },
    {
      "cell_type": "code",
      "metadata": {
        "id": "fFN6mb7mig2P",
        "colab": {
          "base_uri": "https://localhost:8080/",
          "height": 53
        },
        "outputId": "8f00d0e0-d8a2-49ef-fa00-5eb61245137a"
      },
      "source": [
        "'''oversample = SMOTE()\n",
        "x_train_ind, y_train_ind = oversample.fit_resample(x_train_ind, y_train_ind)\n",
        "#x_train_usa, y_train_usa = oversample.fit_resample(x_train_usa, y_train_usa)'''"
      ],
      "execution_count": null,
      "outputs": [
        {
          "output_type": "execute_result",
          "data": {
            "application/vnd.google.colaboratory.intrinsic+json": {
              "type": "string"
            },
            "text/plain": [
              "'oversample = SMOTE()\\nx_train_ind, y_train_ind = oversample.fit_resample(x_train_ind, y_train_ind)\\n#x_train_usa, y_train_usa = oversample.fit_resample(x_train_usa, y_train_usa)'"
            ]
          },
          "metadata": {},
          "execution_count": 135
        }
      ]
    },
    {
      "cell_type": "code",
      "metadata": {
        "colab": {
          "base_uri": "https://localhost:8080/"
        },
        "id": "tHEoUc2Sbn35",
        "outputId": "46ac6312-e837-4a60-fd51-170794208063"
      },
      "source": [
        "from imblearn.under_sampling import ClusterCentroids\n",
        "cc = ClusterCentroids(random_state=0)\n",
        "x_train_ind, y_train_ind = cc.fit_resample(x_train_ind, y_train_ind)\n",
        "#x_test_ind, y_test_ind = cc.fit_resample(x_test_ind, y_test_ind)"
      ],
      "execution_count": null,
      "outputs": [
        {
          "output_type": "stream",
          "name": "stderr",
          "text": [
            "/usr/local/lib/python3.7/dist-packages/sklearn/utils/deprecation.py:87: FutureWarning: Function safe_indexing is deprecated; safe_indexing is deprecated in version 0.22 and will be removed in version 0.24.\n",
            "  warnings.warn(msg, category=FutureWarning)\n"
          ]
        }
      ]
    },
    {
      "cell_type": "code",
      "metadata": {
        "colab": {
          "base_uri": "https://localhost:8080/"
        },
        "id": "DNIMRohskKt0",
        "outputId": "1829fc4c-9a33-4d3d-b116-407955b09eb6"
      },
      "source": [
        "import sklearn\n",
        "sklearn.metrics.SCORERS.keys()"
      ],
      "execution_count": null,
      "outputs": [
        {
          "output_type": "execute_result",
          "data": {
            "text/plain": [
              "dict_keys(['explained_variance', 'r2', 'max_error', 'neg_median_absolute_error', 'neg_mean_absolute_error', 'neg_mean_squared_error', 'neg_mean_squared_log_error', 'neg_root_mean_squared_error', 'neg_mean_poisson_deviance', 'neg_mean_gamma_deviance', 'accuracy', 'roc_auc', 'roc_auc_ovr', 'roc_auc_ovo', 'roc_auc_ovr_weighted', 'roc_auc_ovo_weighted', 'balanced_accuracy', 'average_precision', 'neg_log_loss', 'neg_brier_score', 'adjusted_rand_score', 'homogeneity_score', 'completeness_score', 'v_measure_score', 'mutual_info_score', 'adjusted_mutual_info_score', 'normalized_mutual_info_score', 'fowlkes_mallows_score', 'precision', 'precision_macro', 'precision_micro', 'precision_samples', 'precision_weighted', 'recall', 'recall_macro', 'recall_micro', 'recall_samples', 'recall_weighted', 'f1', 'f1_macro', 'f1_micro', 'f1_samples', 'f1_weighted', 'jaccard', 'jaccard_macro', 'jaccard_micro', 'jaccard_samples', 'jaccard_weighted'])"
            ]
          },
          "metadata": {},
          "execution_count": 151
        }
      ]
    },
    {
      "cell_type": "code",
      "metadata": {
        "colab": {
          "base_uri": "https://localhost:8080/"
        },
        "id": "MmcqEa4rhB4l",
        "outputId": "40db40a7-f877-4c76-c61c-36c35d8c85e0"
      },
      "source": [
        "#building a naive Xgboost model with its default value\n",
        "model_d = xgboost.XGBClassifier(base_score=0.5, booster='gbtree', colsample_bylevel=1,\n",
        "              colsample_bynode=1, colsample_bytree=0.7, gamma=0.1,\n",
        "              learning_rate=0.15, max_delta_step=0, max_depth=5,\n",
        "              min_child_weight=1, missing=None, n_estimators=800, n_jobs=1,\n",
        "              nthread=None, objective='binary:logistic', random_state=0,\n",
        "              reg_alpha=0, reg_lambda=1, scale_pos_weight=5, seed=None,\n",
        "              silent=None, subsample=1, verbosity=1)\n",
        "\n",
        "model_d.fit(x_train_ind_pca, y_train_ind)\n",
        "model_d.score(x_train_ind_pca, y_train_ind)"
      ],
      "execution_count": null,
      "outputs": [
        {
          "output_type": "execute_result",
          "data": {
            "text/plain": [
              "1.0"
            ]
          },
          "metadata": {},
          "execution_count": 216
        }
      ]
    },
    {
      "cell_type": "code",
      "metadata": {
        "colab": {
          "base_uri": "https://localhost:8080/"
        },
        "id": "SNRkhEC_hutA",
        "outputId": "8ec41747-273e-4f45-aaa1-f3bfc17febe4"
      },
      "source": [
        "model_d.score(x_test_ind_pca, y_test_ind)"
      ],
      "execution_count": null,
      "outputs": [
        {
          "output_type": "execute_result",
          "data": {
            "text/plain": [
              "0.5798485347382285"
            ]
          },
          "metadata": {},
          "execution_count": 217
        }
      ]
    },
    {
      "cell_type": "code",
      "metadata": {
        "colab": {
          "base_uri": "https://localhost:8080/"
        },
        "id": "88VNjINlhymE",
        "outputId": "6a934c71-7bbe-4231-b454-607263ccaf41"
      },
      "source": [
        "y_pred = model_d.predict(x_test_ind_pca)\n",
        "print(classification_report(y_test_ind, y_pred))\n",
        "pd.DataFrame(confusion_matrix(y_test_ind, y_pred))"
      ],
      "execution_count": null,
      "outputs": [
        {
          "output_type": "stream",
          "name": "stdout",
          "text": [
            "              precision    recall  f1-score   support\n",
            "\n",
            "           0       0.99      0.58      0.73      3002\n",
            "           1       0.01      0.31      0.02        35\n",
            "\n",
            "    accuracy                           0.58      3037\n",
            "   macro avg       0.50      0.45      0.37      3037\n",
            "weighted avg       0.98      0.58      0.72      3037\n",
            "\n"
          ]
        }
      ]
    },
    {
      "cell_type": "code",
      "metadata": {
        "colab": {
          "base_uri": "https://localhost:8080/",
          "height": 112
        },
        "id": "3c-IVor9h11P",
        "outputId": "c7cd7362-ddab-4e47-c8de-605a85573c98"
      },
      "source": [
        "#Confusion Matrix\n",
        "y_pred = model_d.predict(x_test_ind_pca)\n",
        "pd.DataFrame(confusion_matrix(y_test_ind, y_pred))"
      ],
      "execution_count": null,
      "outputs": [
        {
          "output_type": "execute_result",
          "data": {
            "text/html": [
              "<div>\n",
              "<style scoped>\n",
              "    .dataframe tbody tr th:only-of-type {\n",
              "        vertical-align: middle;\n",
              "    }\n",
              "\n",
              "    .dataframe tbody tr th {\n",
              "        vertical-align: top;\n",
              "    }\n",
              "\n",
              "    .dataframe thead th {\n",
              "        text-align: right;\n",
              "    }\n",
              "</style>\n",
              "<table border=\"1\" class=\"dataframe\">\n",
              "  <thead>\n",
              "    <tr style=\"text-align: right;\">\n",
              "      <th></th>\n",
              "      <th>0</th>\n",
              "      <th>1</th>\n",
              "    </tr>\n",
              "  </thead>\n",
              "  <tbody>\n",
              "    <tr>\n",
              "      <th>0</th>\n",
              "      <td>1750</td>\n",
              "      <td>1252</td>\n",
              "    </tr>\n",
              "    <tr>\n",
              "      <th>1</th>\n",
              "      <td>24</td>\n",
              "      <td>11</td>\n",
              "    </tr>\n",
              "  </tbody>\n",
              "</table>\n",
              "</div>"
            ],
            "text/plain": [
              "      0     1\n",
              "0  1750  1252\n",
              "1    24    11"
            ]
          },
          "metadata": {},
          "execution_count": 219
        }
      ]
    },
    {
      "cell_type": "code",
      "metadata": {
        "colab": {
          "base_uri": "https://localhost:8080/",
          "height": 404
        },
        "id": "-Pkl7LZVh5SN",
        "outputId": "381eef4c-e09b-4050-e85e-e112f0f25eb3"
      },
      "source": [
        "from xgboost import plot_importance\n",
        "plot_importance(model_d)\n",
        "pyplot.show()"
      ],
      "execution_count": null,
      "outputs": [
        {
          "output_type": "display_data",
          "data": {
            "image/png": "[encoded data removed]",
            "text/plain": [
              "<Figure size 864x432 with 1 Axes>"
            ]
          },
          "metadata": {
            "needs_background": "light"
          }
        }
      ]
    },
    {
      "cell_type": "code",
      "metadata": {
        "id": "vty1tOG5jcX0"
      },
      "source": [
        "from keras.layers import Dense\n",
        "from keras.models import Sequential"
      ],
      "execution_count": null,
      "outputs": []
    },
    {
      "cell_type": "code",
      "metadata": {
        "id": "9lAlI86WjcQu"
      },
      "source": [
        "def define_model(n_input):\n",
        "\t# define model\n",
        "\tmodel = Sequential()\n",
        "\t# define first hidden layer and visible layer\n",
        "\tmodel.add(Dense(10, input_dim=n_input, activation='relu', kernel_initializer='he_uniform'))\n",
        "\t# define output layer\n",
        "\tmodel.add(Dense(1, activation='sigmoid'))\n",
        "\t# define loss and optimizer\n",
        "\tmodel.compile(loss='binary_crossentropy', optimizer='sgd')\n",
        "\treturn model"
      ],
      "execution_count": null,
      "outputs": []
    },
    {
      "cell_type": "code",
      "metadata": {
        "id": "w5AXFo07jcJ4"
      },
      "source": [
        "n_input = x_test_ind.shape[1]\n",
        "model = define_model(n_input)"
      ],
      "execution_count": null,
      "outputs": []
    },
    {
      "cell_type": "code",
      "metadata": {
        "colab": {
          "base_uri": "https://localhost:8080/"
        },
        "id": "qDD7TI1QjcCQ",
        "outputId": "91b7a81d-b747-4751-d214-4cf9a222a5c5"
      },
      "source": [
        "weights = {0:1, 1:10}\n",
        "model.fit(x_train_ind, y_train_ind, class_weight=weights, epochs = 100, verbose = 0)"
      ],
      "execution_count": null,
      "outputs": [
        {
          "output_type": "execute_result",
          "data": {
            "text/plain": [
              "<keras.callbacks.History at 0x7f6dcdd93850>"
            ]
          },
          "metadata": {},
          "execution_count": 163
        }
      ]
    },
    {
      "cell_type": "code",
      "metadata": {
        "id": "WjJdxn6Ejb69"
      },
      "source": [
        "y_pred = model.predict(x_test_ind)\n",
        "y_pred = [x[0] for x in y_pred]"
      ],
      "execution_count": null,
      "outputs": []
    },
    {
      "cell_type": "code",
      "metadata": {
        "colab": {
          "base_uri": "https://localhost:8080/"
        },
        "id": "GIM_HixXjbzj",
        "outputId": "c99f8348-349c-4223-cd0e-f941c77b72eb"
      },
      "source": [
        "roc_auc_score(y_test_ind, y_pred)"
      ],
      "execution_count": null,
      "outputs": [
        {
          "output_type": "execute_result",
          "data": {
            "text/plain": [
              "0.4486532787665366"
            ]
          },
          "metadata": {},
          "execution_count": 166
        }
      ]
    },
    {
      "cell_type": "code",
      "metadata": {
        "id": "0I-H7ZExjbrl"
      },
      "source": [
        "y_pred1 = list(map((lambda x: 0 if x < 0.85 else 1), list(y_pred)))"
      ],
      "execution_count": null,
      "outputs": []
    },
    {
      "cell_type": "code",
      "metadata": {
        "colab": {
          "base_uri": "https://localhost:8080/"
        },
        "id": "-cHsBJBkjbji",
        "outputId": "de7e17a9-62a5-4a20-a3e0-b3aa2513c60f"
      },
      "source": [
        "print(classification_report(y_test_ind, y_pred1))"
      ],
      "execution_count": null,
      "outputs": [
        {
          "output_type": "stream",
          "name": "stdout",
          "text": [
            "              precision    recall  f1-score   support\n",
            "\n",
            "           0       0.99      0.43      0.59      3002\n",
            "           1       0.01      0.54      0.02        35\n",
            "\n",
            "    accuracy                           0.43      3037\n",
            "   macro avg       0.50      0.48      0.31      3037\n",
            "weighted avg       0.98      0.43      0.59      3037\n",
            "\n"
          ]
        }
      ]
    },
    {
      "cell_type": "code",
      "metadata": {
        "colab": {
          "base_uri": "https://localhost:8080/",
          "height": 112
        },
        "id": "tRYvjdWgjbaK",
        "outputId": "58f3beb3-1116-40fa-8939-ac815efff703"
      },
      "source": [
        "pd.DataFrame(confusion_matrix(y_test_ind, y_pred1))"
      ],
      "execution_count": null,
      "outputs": [
        {
          "output_type": "execute_result",
          "data": {
            "text/html": [
              "<div>\n",
              "<style scoped>\n",
              "    .dataframe tbody tr th:only-of-type {\n",
              "        vertical-align: middle;\n",
              "    }\n",
              "\n",
              "    .dataframe tbody tr th {\n",
              "        vertical-align: top;\n",
              "    }\n",
              "\n",
              "    .dataframe thead th {\n",
              "        text-align: right;\n",
              "    }\n",
              "</style>\n",
              "<table border=\"1\" class=\"dataframe\">\n",
              "  <thead>\n",
              "    <tr style=\"text-align: right;\">\n",
              "      <th></th>\n",
              "      <th>0</th>\n",
              "      <th>1</th>\n",
              "    </tr>\n",
              "  </thead>\n",
              "  <tbody>\n",
              "    <tr>\n",
              "      <th>0</th>\n",
              "      <td>1276</td>\n",
              "      <td>1726</td>\n",
              "    </tr>\n",
              "    <tr>\n",
              "      <th>1</th>\n",
              "      <td>16</td>\n",
              "      <td>19</td>\n",
              "    </tr>\n",
              "  </tbody>\n",
              "</table>\n",
              "</div>"
            ],
            "text/plain": [
              "      0     1\n",
              "0  1276  1726\n",
              "1    16    19"
            ]
          },
          "metadata": {},
          "execution_count": 186
        }
      ]
    },
    {
      "cell_type": "code",
      "metadata": {
        "id": "UYSsL-AtALKU"
      },
      "source": [
        "\n",
        "from sklearn.model_selection import RepeatedStratifiedKFold\n",
        "from sklearn.svm import SVC"
      ],
      "execution_count": null,
      "outputs": []
    },
    {
      "cell_type": "code",
      "metadata": {
        "colab": {
          "base_uri": "https://localhost:8080/"
        },
        "id": "d8p2pEBpALAv",
        "outputId": "f57a9b1b-e559-4f01-d454-920e6be49256"
      },
      "source": [
        "weights = {0:1.0, 1:22}\n",
        "model = SVC(kernel =  'linear',class_weight = weights)\n",
        "model.fit(x_train_ind, y_train_ind)\n",
        "model.score(x_train_ind, y_train_ind)"
      ],
      "execution_count": null,
      "outputs": [
        {
          "output_type": "execute_result",
          "data": {
            "text/plain": [
              "0.8181818181818182"
            ]
          },
          "metadata": {},
          "execution_count": 188
        }
      ]
    },
    {
      "cell_type": "code",
      "metadata": {
        "colab": {
          "base_uri": "https://localhost:8080/"
        },
        "id": "VqkEWSViAK4L",
        "outputId": "c7f4f028-aa0a-45f4-9447-cd9edce56e54"
      },
      "source": [
        "model.score(x_test_ind, y_test_ind)"
      ],
      "execution_count": null,
      "outputs": [
        {
          "output_type": "execute_result",
          "data": {
            "text/plain": [
              "0.2225880803424432"
            ]
          },
          "metadata": {},
          "execution_count": 189
        }
      ]
    },
    {
      "cell_type": "code",
      "metadata": {
        "colab": {
          "base_uri": "https://localhost:8080/"
        },
        "id": "XXHgilmeAKvo",
        "outputId": "20d06a32-190b-458d-d852-ceb46ed8f650"
      },
      "source": [
        "y_pred = model.predict(x_test_ind)\n",
        "print(classification_report(y_test_ind, y_pred))\n",
        "pd.DataFrame(confusion_matrix(y_test_ind, y_pred))"
      ],
      "execution_count": null,
      "outputs": [
        {
          "output_type": "stream",
          "name": "stdout",
          "text": [
            "              precision    recall  f1-score   support\n",
            "\n",
            "           0       0.99      0.21      0.35      3002\n",
            "           1       0.01      0.89      0.03        35\n",
            "\n",
            "    accuracy                           0.22      3037\n",
            "   macro avg       0.50      0.55      0.19      3037\n",
            "weighted avg       0.98      0.22      0.35      3037\n",
            "\n"
          ]
        }
      ]
    },
    {
      "cell_type": "code",
      "metadata": {
        "colab": {
          "base_uri": "https://localhost:8080/",
          "height": 112
        },
        "id": "zCmAUWlCAKne",
        "outputId": "45204b20-a06f-4564-bac4-7cbfcf019230"
      },
      "source": [
        "pd.DataFrame(confusion_matrix(y_test_ind, y_pred))"
      ],
      "execution_count": null,
      "outputs": [
        {
          "output_type": "execute_result",
          "data": {
            "text/html": [
              "<div>\n",
              "<style scoped>\n",
              "    .dataframe tbody tr th:only-of-type {\n",
              "        vertical-align: middle;\n",
              "    }\n",
              "\n",
              "    .dataframe tbody tr th {\n",
              "        vertical-align: top;\n",
              "    }\n",
              "\n",
              "    .dataframe thead th {\n",
              "        text-align: right;\n",
              "    }\n",
              "</style>\n",
              "<table border=\"1\" class=\"dataframe\">\n",
              "  <thead>\n",
              "    <tr style=\"text-align: right;\">\n",
              "      <th></th>\n",
              "      <th>0</th>\n",
              "      <th>1</th>\n",
              "    </tr>\n",
              "  </thead>\n",
              "  <tbody>\n",
              "    <tr>\n",
              "      <th>0</th>\n",
              "      <td>645</td>\n",
              "      <td>2357</td>\n",
              "    </tr>\n",
              "    <tr>\n",
              "      <th>1</th>\n",
              "      <td>4</td>\n",
              "      <td>31</td>\n",
              "    </tr>\n",
              "  </tbody>\n",
              "</table>\n",
              "</div>"
            ],
            "text/plain": [
              "     0     1\n",
              "0  645  2357\n",
              "1    4    31"
            ]
          },
          "metadata": {},
          "execution_count": 191
        }
      ]
    },
    {
      "cell_type": "code",
      "metadata": {
        "colab": {
          "base_uri": "https://localhost:8080/"
        },
        "id": "esNON9pLAKey",
        "outputId": "e0f0ee02-9b09-45e6-b18b-b6c111991f31"
      },
      "source": [
        "params = {\n",
        "    'C': [0.10,0.20,0.30, 0.5, 0.7, 0.9, 1, 1.5],\n",
        "    'kernel': ['linear', 'poly', 'sigmoid', 'rbf'],\n",
        "    'class_weight': ['balanced']\n",
        "}\n",
        "model = SVC()                #Defining the model\n",
        "\n",
        "#Defining the Randomized search Cv function with its own parameter and evaluation metrix\n",
        "random_search = RandomizedSearchCV(model, param_distributions = params, n_iter = 30, \n",
        "                                   scoring = 'roc_auc', n_jobs = -1, cv = 5, verbose = 3)\n",
        "\n",
        "random_search.fit(x_train_ind,y_train_ind)             #fitting the random search model\n",
        "\n",
        "random_search.best_estimator_                  #getting the best parameter value for xg boost\n",
        "\n",
        "model = random_search.best_estimator_\n",
        "model.fit(x_train_ind, y_train_ind)\n",
        "print(f'Accuracy on Train Data: {model.score(x_train_ind, y_train_ind)}')\n",
        "print(f'Accuracy on test Data: {model.score(x_test_ind, y_test_ind)}')\n",
        "y_pred = model.predict(x_test_ind)\n",
        "print(classification_report(y_test_ind, y_pred))\n",
        "pd.DataFrame(confusion_matrix(y_test_ind, y_pred))"
      ],
      "execution_count": null,
      "outputs": [
        {
          "output_type": "stream",
          "name": "stdout",
          "text": [
            "Fitting 5 folds for each of 30 candidates, totalling 150 fits\n"
          ]
        },
        {
          "output_type": "stream",
          "name": "stderr",
          "text": [
            "[Parallel(n_jobs=-1)]: Using backend LokyBackend with 2 concurrent workers.\n",
            "[Parallel(n_jobs=-1)]: Done 132 tasks      | elapsed:    0.7s\n",
            "[Parallel(n_jobs=-1)]: Done 150 out of 150 | elapsed:    0.9s finished\n"
          ]
        },
        {
          "output_type": "execute_result",
          "data": {
            "text/plain": [
              "SVC(C=0.7, break_ties=False, cache_size=200, class_weight='balanced', coef0=0.0,\n",
              "    decision_function_shape='ovr', degree=3, gamma='scale', kernel='poly',\n",
              "    max_iter=-1, probability=False, random_state=None, shrinking=True,\n",
              "    tol=0.001, verbose=False)"
            ]
          },
          "metadata": {},
          "execution_count": 192
        }
      ]
    },
    {
      "cell_type": "code",
      "metadata": {
        "colab": {
          "base_uri": "https://localhost:8080/"
        },
        "id": "U-yP0ILoAKVz",
        "outputId": "e418c1df-0a21-446e-8f11-1cf271726832"
      },
      "source": [
        "model = SVC(C=0.7, break_ties=False, cache_size=200, class_weight='balanced', coef0=0.0,\n",
        "    decision_function_shape='ovr', degree=3, gamma='scale', kernel='sigmoid',\n",
        "    max_iter=-1, probability=False, random_state=None, shrinking=True,\n",
        "    tol=0.001, verbose=False)\n",
        "model.fit(x_train_ind, y_train_ind)\n",
        "model.score(x_train_ind, y_train_ind)"
      ],
      "execution_count": null,
      "outputs": [
        {
          "output_type": "execute_result",
          "data": {
            "text/plain": [
              "0.48484848484848486"
            ]
          },
          "metadata": {},
          "execution_count": 193
        }
      ]
    },
    {
      "cell_type": "code",
      "metadata": {
        "colab": {
          "base_uri": "https://localhost:8080/"
        },
        "id": "uX8rmRU6AKMI",
        "outputId": "11c49770-61a5-4c12-9d3e-8b5704b86a0b"
      },
      "source": [
        "model.score(x_test_ind, y_test_ind)"
      ],
      "execution_count": null,
      "outputs": [
        {
          "output_type": "execute_result",
          "data": {
            "text/plain": [
              "0.3980902206124465"
            ]
          },
          "metadata": {},
          "execution_count": 194
        }
      ]
    },
    {
      "cell_type": "code",
      "metadata": {
        "colab": {
          "base_uri": "https://localhost:8080/"
        },
        "id": "qKTdxHFdAKDq",
        "outputId": "d3e87289-0089-4afb-c255-5bd1be44fb03"
      },
      "source": [
        "y_pred = model.predict(x_test_ind)\n",
        "print(classification_report(y_test_ind, y_pred))"
      ],
      "execution_count": null,
      "outputs": [
        {
          "output_type": "stream",
          "name": "stdout",
          "text": [
            "              precision    recall  f1-score   support\n",
            "\n",
            "           0       0.99      0.40      0.57      3002\n",
            "           1       0.01      0.54      0.02        35\n",
            "\n",
            "    accuracy                           0.40      3037\n",
            "   macro avg       0.50      0.47      0.29      3037\n",
            "weighted avg       0.98      0.40      0.56      3037\n",
            "\n"
          ]
        }
      ]
    },
    {
      "cell_type": "code",
      "metadata": {
        "colab": {
          "base_uri": "https://localhost:8080/",
          "height": 112
        },
        "id": "AjuZYjmsAJ6k",
        "outputId": "d121abc7-7bbe-480a-f57e-a5220b62003c"
      },
      "source": [
        "pd.DataFrame(confusion_matrix(y_test_ind, y_pred))"
      ],
      "execution_count": null,
      "outputs": [
        {
          "output_type": "execute_result",
          "data": {
            "text/html": [
              "<div>\n",
              "<style scoped>\n",
              "    .dataframe tbody tr th:only-of-type {\n",
              "        vertical-align: middle;\n",
              "    }\n",
              "\n",
              "    .dataframe tbody tr th {\n",
              "        vertical-align: top;\n",
              "    }\n",
              "\n",
              "    .dataframe thead th {\n",
              "        text-align: right;\n",
              "    }\n",
              "</style>\n",
              "<table border=\"1\" class=\"dataframe\">\n",
              "  <thead>\n",
              "    <tr style=\"text-align: right;\">\n",
              "      <th></th>\n",
              "      <th>0</th>\n",
              "      <th>1</th>\n",
              "    </tr>\n",
              "  </thead>\n",
              "  <tbody>\n",
              "    <tr>\n",
              "      <th>0</th>\n",
              "      <td>1190</td>\n",
              "      <td>1812</td>\n",
              "    </tr>\n",
              "    <tr>\n",
              "      <th>1</th>\n",
              "      <td>16</td>\n",
              "      <td>19</td>\n",
              "    </tr>\n",
              "  </tbody>\n",
              "</table>\n",
              "</div>"
            ],
            "text/plain": [
              "      0     1\n",
              "0  1190  1812\n",
              "1    16    19"
            ]
          },
          "metadata": {},
          "execution_count": 196
        }
      ]
    },
    {
      "cell_type": "code",
      "metadata": {
        "id": "RpXvDc2ajbQQ"
      },
      "source": [
        ""
      ],
      "execution_count": null,
      "outputs": []
    },
    {
      "cell_type": "code",
      "metadata": {
        "id": "xmDI9z-_jbDR"
      },
      "source": [
        ""
      ],
      "execution_count": null,
      "outputs": []
    },
    {
      "cell_type": "code",
      "metadata": {
        "id": "xRd4Z6X6n97q"
      },
      "source": [
        "test_ind['sp'] = y_pred\n",
        "#test_ind['status'] = y_pred\n",
        "#col = ['PersonID_masked', 'Status', 'sp']\n",
        "test_ind.to_csv('/content/drive/MyDrive/ATTRITION_DATA/MASTER_DATA/Resignation_in_Feb_2021_USA.csv')"
      ],
      "execution_count": null,
      "outputs": []
    },
    {
      "cell_type": "code",
      "metadata": {
        "colab": {
          "base_uri": "https://localhost:8080/"
        },
        "id": "SHi11jpN58Q-",
        "outputId": "ba84f1d5-5721-4d97-b703-ac3567dc8fd8"
      },
      "source": [
        "train.Status.value_counts()"
      ],
      "execution_count": null,
      "outputs": [
        {
          "output_type": "execute_result",
          "data": {
            "text/plain": [
              "0    3183\n",
              "1      46\n",
              "Name: Status, dtype: int64"
            ]
          },
          "metadata": {},
          "execution_count": 59
        }
      ]
    },
    {
      "cell_type": "code",
      "metadata": {
        "id": "-cqAcqtTo8Xc"
      },
      "source": [
        "def status(term):\n",
        "  if dat <= term <= (dat + relativedelta(months= 1)):\n",
        "      return 'Inactive'\n",
        "  else:\n",
        "      return 'Acitve'"
      ],
      "execution_count": null,
      "outputs": []
    },
    {
      "cell_type": "code",
      "metadata": {
        "colab": {
          "base_uri": "https://localhost:8080/"
        },
        "id": "h55TbDY8pqbJ",
        "outputId": "390fca0c-ab26-40a3-e0ea-8b0ed8f1b86d"
      },
      "source": [
        "train.Status.value_counts()"
      ],
      "execution_count": null,
      "outputs": [
        {
          "output_type": "execute_result",
          "data": {
            "text/plain": [
              "0    3410\n",
              "1     177\n",
              "Name: Status, dtype: int64"
            ]
          },
          "metadata": {
            "tags": []
          },
          "execution_count": 18
        }
      ]
    },
    {
      "cell_type": "code",
      "metadata": {
        "colab": {
          "base_uri": "https://localhost:8080/"
        },
        "id": "DovTrwxXpXq7",
        "outputId": "8c432dbe-bd38-4c7f-bf14-13f07e6f713a"
      },
      "source": [
        "dat = '02-01-2021'\n",
        "dat = datetime.strptime(dat, '%m-%d-%Y')\n",
        "train['Resignation Date'] = pd.to_datetime(train['Resignation Date'], errors = 'coerce')\n",
        "train['Status'] = train['Resignation Date'].apply(status)\n",
        "train.Status.value_counts()"
      ],
      "execution_count": null,
      "outputs": [
        {
          "output_type": "execute_result",
          "data": {
            "text/plain": [
              "Acitve      3556\n",
              "Inactive      31\n",
              "Name: Status, dtype: int64"
            ]
          },
          "metadata": {
            "tags": []
          },
          "execution_count": 23
        }
      ]
    },
    {
      "cell_type": "code",
      "metadata": {
        "colab": {
          "base_uri": "https://localhost:8080/"
        },
        "id": "8h2VnTgdqQGq",
        "outputId": "ac8825d0-b436-4021-af0e-0a381a3c8420"
      },
      "source": [
        "test.Status.value_counts()"
      ],
      "execution_count": null,
      "outputs": [
        {
          "output_type": "execute_result",
          "data": {
            "text/plain": [
              "0    3642\n",
              "1     131\n",
              "Name: Status, dtype: int64"
            ]
          },
          "metadata": {
            "tags": []
          },
          "execution_count": 24
        }
      ]
    },
    {
      "cell_type": "code",
      "metadata": {
        "colab": {
          "base_uri": "https://localhost:8080/"
        },
        "id": "UwfzDHNNpvoC",
        "outputId": "990b46a6-14da-45e6-8e2d-f8729500825b"
      },
      "source": [
        "dat = '02-01-2021'\n",
        "dat = datetime.strptime(dat, '%m-%d-%Y')\n",
        "test['Resignation Date'] = pd.to_datetime(test['Resignation Date'], errors = 'coerce')\n",
        "test['Status'] = test['Resignation Date'].apply(status)\n",
        "test.Status.value_counts()"
      ],
      "execution_count": null,
      "outputs": [
        {
          "output_type": "execute_result",
          "data": {
            "text/plain": [
              "Acitve      3740\n",
              "Inactive      33\n",
              "Name: Status, dtype: int64"
            ]
          },
          "metadata": {
            "tags": []
          },
          "execution_count": 25
        }
      ]
    },
    {
      "cell_type": "code",
      "metadata": {
        "id": "9w74jRTJp59j",
        "colab": {
          "base_uri": "https://localhost:8080/"
        },
        "outputId": "fb429ea7-c671-458a-9dee-dba65ad6282c"
      },
      "source": [
        "x_train_ind_pca"
      ],
      "execution_count": null,
      "outputs": [
        {
          "output_type": "execute_result",
          "data": {
            "text/plain": [
              "array([[-0.00345523,  0.26935899,  0.1558961 ],\n",
              "       [-0.00345523,  0.26935899,  0.1558961 ],\n",
              "       [ 0.15651106, -0.33092862, -0.27993219],\n",
              "       ...,\n",
              "       [-0.41208086, -0.35672638, -0.03527411],\n",
              "       [ 0.16332741, -0.32178163, -0.31266896],\n",
              "       [ 0.16332741, -0.32178163, -0.31266896]])"
            ]
          },
          "metadata": {},
          "execution_count": 59
        }
      ]
    },
    {
      "cell_type": "code",
      "metadata": {
        "colab": {
          "base_uri": "https://localhost:8080/"
        },
        "id": "3UffCKiuKvqJ",
        "outputId": "a08256cb-fb30-413c-d413-ac69d984654e"
      },
      "source": [
        "df_svd = pd.DataFrame(x_train_ind_svd, columns = ['Column_A','Column_B', 'Cplumn_C'])\n",
        "df_svd.shape"
      ],
      "execution_count": null,
      "outputs": [
        {
          "output_type": "execute_result",
          "data": {
            "text/plain": [
              "(2677, 2)"
            ]
          },
          "metadata": {},
          "execution_count": 48
        }
      ]
    },
    {
      "cell_type": "code",
      "metadata": {
        "colab": {
          "base_uri": "https://localhost:8080/",
          "height": 206
        },
        "id": "as1RhV9nLKFd",
        "outputId": "9784a769-161e-4324-a8c4-f5c8a4799bce"
      },
      "source": [
        "df_svd['status'] = y_train_ind\n",
        "df_svd.head()"
      ],
      "execution_count": null,
      "outputs": [
        {
          "output_type": "execute_result",
          "data": {
            "text/html": [
              "<div>\n",
              "<style scoped>\n",
              "    .dataframe tbody tr th:only-of-type {\n",
              "        vertical-align: middle;\n",
              "    }\n",
              "\n",
              "    .dataframe tbody tr th {\n",
              "        vertical-align: top;\n",
              "    }\n",
              "\n",
              "    .dataframe thead th {\n",
              "        text-align: right;\n",
              "    }\n",
              "</style>\n",
              "<table border=\"1\" class=\"dataframe\">\n",
              "  <thead>\n",
              "    <tr style=\"text-align: right;\">\n",
              "      <th></th>\n",
              "      <th>Column_A</th>\n",
              "      <th>Column_B</th>\n",
              "      <th>status</th>\n",
              "    </tr>\n",
              "  </thead>\n",
              "  <tbody>\n",
              "    <tr>\n",
              "      <th>0</th>\n",
              "      <td>93.968556</td>\n",
              "      <td>-18.695092</td>\n",
              "      <td>0.0</td>\n",
              "    </tr>\n",
              "    <tr>\n",
              "      <th>1</th>\n",
              "      <td>93.968556</td>\n",
              "      <td>-18.695092</td>\n",
              "      <td>0.0</td>\n",
              "    </tr>\n",
              "    <tr>\n",
              "      <th>2</th>\n",
              "      <td>139.832313</td>\n",
              "      <td>-45.411649</td>\n",
              "      <td>0.0</td>\n",
              "    </tr>\n",
              "    <tr>\n",
              "      <th>3</th>\n",
              "      <td>139.832313</td>\n",
              "      <td>-45.411649</td>\n",
              "      <td>0.0</td>\n",
              "    </tr>\n",
              "    <tr>\n",
              "      <th>4</th>\n",
              "      <td>39.248807</td>\n",
              "      <td>-18.699120</td>\n",
              "      <td>0.0</td>\n",
              "    </tr>\n",
              "  </tbody>\n",
              "</table>\n",
              "</div>"
            ],
            "text/plain": [
              "     Column_A   Column_B  status\n",
              "0   93.968556 -18.695092     0.0\n",
              "1   93.968556 -18.695092     0.0\n",
              "2  139.832313 -45.411649     0.0\n",
              "3  139.832313 -45.411649     0.0\n",
              "4   39.248807 -18.699120     0.0"
            ]
          },
          "metadata": {},
          "execution_count": 49
        }
      ]
    },
    {
      "cell_type": "code",
      "metadata": {
        "colab": {
          "base_uri": "https://localhost:8080/"
        },
        "id": "T06p79BvLF8T",
        "outputId": "f9b89bd8-37e8-400c-c86e-e1718eaf0a1f"
      },
      "source": [
        "pca = PCA(n_components=4)\n",
        "x_train_ind_pca = pca.fit_transform(x_train_ind)\n",
        "df_pca = pd.DataFrame(x_train_ind_pca, columns = ['Column_A','Column_B', 'Column_C', 'Column_D'])\n",
        "df_pca.shape"
      ],
      "execution_count": null,
      "outputs": [
        {
          "output_type": "execute_result",
          "data": {
            "text/plain": [
              "(2264, 4)"
            ]
          },
          "metadata": {},
          "execution_count": 83
        }
      ]
    },
    {
      "cell_type": "code",
      "metadata": {
        "colab": {
          "base_uri": "https://localhost:8080/",
          "height": 206
        },
        "id": "5KGxLg_6M6Yr",
        "outputId": "123e72a5-fa0f-4808-c350-1f64b2b568f9"
      },
      "source": [
        "\n",
        "df_pca['status'] = y_train_ind\n",
        "df_pca.head()"
      ],
      "execution_count": null,
      "outputs": [
        {
          "output_type": "execute_result",
          "data": {
            "text/html": [
              "<div>\n",
              "<style scoped>\n",
              "    .dataframe tbody tr th:only-of-type {\n",
              "        vertical-align: middle;\n",
              "    }\n",
              "\n",
              "    .dataframe tbody tr th {\n",
              "        vertical-align: top;\n",
              "    }\n",
              "\n",
              "    .dataframe thead th {\n",
              "        text-align: right;\n",
              "    }\n",
              "</style>\n",
              "<table border=\"1\" class=\"dataframe\">\n",
              "  <thead>\n",
              "    <tr style=\"text-align: right;\">\n",
              "      <th></th>\n",
              "      <th>Column_A</th>\n",
              "      <th>Column_B</th>\n",
              "      <th>Column_C</th>\n",
              "      <th>Column_D</th>\n",
              "      <th>status</th>\n",
              "    </tr>\n",
              "  </thead>\n",
              "  <tbody>\n",
              "    <tr>\n",
              "      <th>0</th>\n",
              "      <td>-0.969524</td>\n",
              "      <td>-0.299405</td>\n",
              "      <td>0.540353</td>\n",
              "      <td>0.248927</td>\n",
              "      <td>0</td>\n",
              "    </tr>\n",
              "    <tr>\n",
              "      <th>1</th>\n",
              "      <td>0.394976</td>\n",
              "      <td>0.708743</td>\n",
              "      <td>-0.271671</td>\n",
              "      <td>0.630313</td>\n",
              "      <td>0</td>\n",
              "    </tr>\n",
              "    <tr>\n",
              "      <th>2</th>\n",
              "      <td>-0.569116</td>\n",
              "      <td>-0.585850</td>\n",
              "      <td>-0.344306</td>\n",
              "      <td>0.277034</td>\n",
              "      <td>0</td>\n",
              "    </tr>\n",
              "    <tr>\n",
              "      <th>3</th>\n",
              "      <td>0.953637</td>\n",
              "      <td>-0.389771</td>\n",
              "      <td>0.231049</td>\n",
              "      <td>0.287915</td>\n",
              "      <td>0</td>\n",
              "    </tr>\n",
              "    <tr>\n",
              "      <th>4</th>\n",
              "      <td>0.566267</td>\n",
              "      <td>-0.361618</td>\n",
              "      <td>0.245632</td>\n",
              "      <td>-0.427099</td>\n",
              "      <td>0</td>\n",
              "    </tr>\n",
              "  </tbody>\n",
              "</table>\n",
              "</div>"
            ],
            "text/plain": [
              "   Column_A  Column_B  Column_C  Column_D  status\n",
              "0 -0.969524 -0.299405  0.540353  0.248927       0\n",
              "1  0.394976  0.708743 -0.271671  0.630313       0\n",
              "2 -0.569116 -0.585850 -0.344306  0.277034       0\n",
              "3  0.953637 -0.389771  0.231049  0.287915       0\n",
              "4  0.566267 -0.361618  0.245632 -0.427099       0"
            ]
          },
          "metadata": {},
          "execution_count": 86
        }
      ]
    },
    {
      "cell_type": "code",
      "metadata": {
        "colab": {
          "base_uri": "https://localhost:8080/",
          "height": 407
        },
        "id": "W2D2rC1xLQPK",
        "outputId": "fb80350b-c3c7-4260-f087-ab1132523d25"
      },
      "source": [
        "import seaborn as sns\n",
        "sns.scatterplot(x = df_pca.Column_A, y = df_pca.Column_B, hue = df_pca.status)"
      ],
      "execution_count": null,
      "outputs": [
        {
          "output_type": "execute_result",
          "data": {
            "text/plain": [
              "<matplotlib.axes._subplots.AxesSubplot at 0x7fdb5ee06990>"
            ]
          },
          "metadata": {},
          "execution_count": 87
        },
        {
          "output_type": "display_data",
          "data": {
            "image/png": "[encoded data removed]",
            "text/plain": [
              "<Figure size 864x432 with 1 Axes>"
            ]
          },
          "metadata": {
            "needs_background": "light"
          }
        }
      ]
    },
    {
      "cell_type": "code",
      "metadata": {
        "colab": {
          "base_uri": "https://localhost:8080/",
          "height": 407
        },
        "id": "iFBJNCbGLtbs",
        "outputId": "c34ec4d4-16d7-4b01-f967-48b5b60dc2c9"
      },
      "source": [
        "import seaborn as sns\n",
        "sns.scatterplot(x = df_pca.Column_C, y = df_pca.Column_B , hue = df_pca.status)"
      ],
      "execution_count": null,
      "outputs": [
        {
          "output_type": "execute_result",
          "data": {
            "text/plain": [
              "<matplotlib.axes._subplots.AxesSubplot at 0x7fdb5c116210>"
            ]
          },
          "metadata": {},
          "execution_count": 92
        },
        {
          "output_type": "display_data",
          "data": {
            "image/png": "[encoded data removed]",
            "text/plain": [
              "<Figure size 864x432 with 1 Axes>"
            ]
          },
          "metadata": {
            "needs_background": "light"
          }
        }
      ]
    },
    {
      "cell_type": "code",
      "metadata": {
        "id": "0enSUKhPNCQp"
      },
      "source": [
        ""
      ],
      "execution_count": null,
      "outputs": []
    }
  ]
}